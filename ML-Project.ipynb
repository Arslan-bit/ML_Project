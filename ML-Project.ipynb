{
 "cells": [
  {
   "cell_type": "code",
   "execution_count": 89,
   "metadata": {
    "id": "UOXOCCr0UG_t"
   },
   "outputs": [],
   "source": [
    "import pandas as pd\n",
    "import numpy as np\n",
    "import seaborn as sns\n",
    "import matplotlib.pyplot as plt\n",
    "from scipy.stats import norm\n",
    "import re\n",
    "from scipy.stats import norm\n",
    "from sklearn.preprocessing import MinMaxScaler # to scale the numeric features \n",
    "from scipy import stats\n",
    "from sklearn.model_selection import train_test_split,GridSearchCV,RandomizedSearchCV\n",
    "from sklearn.metrics import mean_squared_error,r2_score\n",
    "from sklearn.ensemble import RandomForestRegressor,GradientBoostingRegressor\n",
    "from sklearn.tree import DecisionTreeRegressor\n",
    "\n",
    "from warnings import filterwarnings\n",
    "filterwarnings('ignore')\n",
    "sns.set()"
   ]
  },
  {
   "cell_type": "code",
   "execution_count": 2,
   "metadata": {},
   "outputs": [],
   "source": [
    "# import plotly.express as px\n",
    "# import plotly.graph_objects as go\n"
   ]
  },
  {
   "cell_type": "code",
   "execution_count": 3,
   "metadata": {
    "colab": {
     "base_uri": "https://localhost:8080/",
     "height": 455
    },
    "id": "o7ElON_2UG_x",
    "outputId": "6b354d0e-98f7-489f-fc65-25ec96114a3a"
   },
   "outputs": [
    {
     "data": {
      "text/html": [
       "<div>\n",
       "<style scoped>\n",
       "    .dataframe tbody tr th:only-of-type {\n",
       "        vertical-align: middle;\n",
       "    }\n",
       "\n",
       "    .dataframe tbody tr th {\n",
       "        vertical-align: top;\n",
       "    }\n",
       "\n",
       "    .dataframe thead th {\n",
       "        text-align: right;\n",
       "    }\n",
       "</style>\n",
       "<table border=\"1\" class=\"dataframe\">\n",
       "  <thead>\n",
       "    <tr style=\"text-align: right;\">\n",
       "      <th></th>\n",
       "      <th>Unnamed: 0</th>\n",
       "      <th>Name</th>\n",
       "      <th>Location</th>\n",
       "      <th>Year</th>\n",
       "      <th>Kilometers_Driven</th>\n",
       "      <th>Fuel_Type</th>\n",
       "      <th>Transmission</th>\n",
       "      <th>Owner_Type</th>\n",
       "      <th>Mileage</th>\n",
       "      <th>Engine</th>\n",
       "      <th>Power</th>\n",
       "      <th>Seats</th>\n",
       "      <th>New_Price</th>\n",
       "      <th>Price</th>\n",
       "    </tr>\n",
       "  </thead>\n",
       "  <tbody>\n",
       "    <tr>\n",
       "      <th>0</th>\n",
       "      <td>0</td>\n",
       "      <td>Maruti Wagon R LXI CNG</td>\n",
       "      <td>Mumbai</td>\n",
       "      <td>2010</td>\n",
       "      <td>72000</td>\n",
       "      <td>CNG</td>\n",
       "      <td>Manual</td>\n",
       "      <td>First</td>\n",
       "      <td>26.6 km/kg</td>\n",
       "      <td>998 CC</td>\n",
       "      <td>58.16 bhp</td>\n",
       "      <td>5.0</td>\n",
       "      <td>NaN</td>\n",
       "      <td>1.75</td>\n",
       "    </tr>\n",
       "    <tr>\n",
       "      <th>1</th>\n",
       "      <td>1</td>\n",
       "      <td>Hyundai Creta 1.6 CRDi SX Option</td>\n",
       "      <td>Pune</td>\n",
       "      <td>2015</td>\n",
       "      <td>41000</td>\n",
       "      <td>Diesel</td>\n",
       "      <td>Manual</td>\n",
       "      <td>First</td>\n",
       "      <td>19.67 kmpl</td>\n",
       "      <td>1582 CC</td>\n",
       "      <td>126.2 bhp</td>\n",
       "      <td>5.0</td>\n",
       "      <td>NaN</td>\n",
       "      <td>12.50</td>\n",
       "    </tr>\n",
       "    <tr>\n",
       "      <th>2</th>\n",
       "      <td>2</td>\n",
       "      <td>Honda Jazz V</td>\n",
       "      <td>Chennai</td>\n",
       "      <td>2011</td>\n",
       "      <td>46000</td>\n",
       "      <td>Petrol</td>\n",
       "      <td>Manual</td>\n",
       "      <td>First</td>\n",
       "      <td>18.2 kmpl</td>\n",
       "      <td>1199 CC</td>\n",
       "      <td>88.7 bhp</td>\n",
       "      <td>5.0</td>\n",
       "      <td>8.61 Lakh</td>\n",
       "      <td>4.50</td>\n",
       "    </tr>\n",
       "    <tr>\n",
       "      <th>3</th>\n",
       "      <td>3</td>\n",
       "      <td>Maruti Ertiga VDI</td>\n",
       "      <td>Chennai</td>\n",
       "      <td>2012</td>\n",
       "      <td>87000</td>\n",
       "      <td>Diesel</td>\n",
       "      <td>Manual</td>\n",
       "      <td>First</td>\n",
       "      <td>20.77 kmpl</td>\n",
       "      <td>1248 CC</td>\n",
       "      <td>88.76 bhp</td>\n",
       "      <td>7.0</td>\n",
       "      <td>NaN</td>\n",
       "      <td>6.00</td>\n",
       "    </tr>\n",
       "    <tr>\n",
       "      <th>4</th>\n",
       "      <td>4</td>\n",
       "      <td>Audi A4 New 2.0 TDI Multitronic</td>\n",
       "      <td>Coimbatore</td>\n",
       "      <td>2013</td>\n",
       "      <td>40670</td>\n",
       "      <td>Diesel</td>\n",
       "      <td>Automatic</td>\n",
       "      <td>Second</td>\n",
       "      <td>15.2 kmpl</td>\n",
       "      <td>1968 CC</td>\n",
       "      <td>140.8 bhp</td>\n",
       "      <td>5.0</td>\n",
       "      <td>NaN</td>\n",
       "      <td>17.74</td>\n",
       "    </tr>\n",
       "  </tbody>\n",
       "</table>\n",
       "</div>"
      ],
      "text/plain": [
       "   Unnamed: 0                              Name    Location  Year  \\\n",
       "0           0            Maruti Wagon R LXI CNG      Mumbai  2010   \n",
       "1           1  Hyundai Creta 1.6 CRDi SX Option        Pune  2015   \n",
       "2           2                      Honda Jazz V     Chennai  2011   \n",
       "3           3                 Maruti Ertiga VDI     Chennai  2012   \n",
       "4           4   Audi A4 New 2.0 TDI Multitronic  Coimbatore  2013   \n",
       "\n",
       "   Kilometers_Driven Fuel_Type Transmission Owner_Type     Mileage   Engine  \\\n",
       "0              72000       CNG       Manual      First  26.6 km/kg   998 CC   \n",
       "1              41000    Diesel       Manual      First  19.67 kmpl  1582 CC   \n",
       "2              46000    Petrol       Manual      First   18.2 kmpl  1199 CC   \n",
       "3              87000    Diesel       Manual      First  20.77 kmpl  1248 CC   \n",
       "4              40670    Diesel    Automatic     Second   15.2 kmpl  1968 CC   \n",
       "\n",
       "       Power  Seats  New_Price  Price  \n",
       "0  58.16 bhp    5.0        NaN   1.75  \n",
       "1  126.2 bhp    5.0        NaN  12.50  \n",
       "2   88.7 bhp    5.0  8.61 Lakh   4.50  \n",
       "3  88.76 bhp    7.0        NaN   6.00  \n",
       "4  140.8 bhp    5.0        NaN  17.74  "
      ]
     },
     "execution_count": 3,
     "metadata": {},
     "output_type": "execute_result"
    }
   ],
   "source": [
    "df = pd.read_csv('train-data.csv') #creating the dataframe called \"df\"\n",
    "df.head()"
   ]
  },
  {
   "cell_type": "code",
   "execution_count": 4,
   "metadata": {
    "colab": {
     "base_uri": "https://localhost:8080/"
    },
    "id": "VLq4u2MRUG_y",
    "outputId": "e9d6646f-8347-4ad1-c87e-865b16e6fab1"
   },
   "outputs": [
    {
     "data": {
      "text/plain": [
       "Index(['Unnamed: 0', 'Name', 'Location', 'Year', 'Kilometers_Driven',\n",
       "       'Fuel_Type', 'Transmission', 'Owner_Type', 'Mileage', 'Engine', 'Power',\n",
       "       'Seats', 'New_Price', 'Price'],\n",
       "      dtype='object')"
      ]
     },
     "execution_count": 4,
     "metadata": {},
     "output_type": "execute_result"
    }
   ],
   "source": [
    "df.columns # column names of the dataset"
   ]
  },
  {
   "cell_type": "code",
   "execution_count": 5,
   "metadata": {
    "colab": {
     "base_uri": "https://localhost:8080/"
    },
    "id": "9UPIGhr5UG_y",
    "outputId": "ac1a3a23-7287-446f-dccf-b101cd2f422b"
   },
   "outputs": [
    {
     "name": "stdout",
     "output_type": "stream",
     "text": [
      "<class 'pandas.core.frame.DataFrame'>\n",
      "RangeIndex: 6019 entries, 0 to 6018\n",
      "Data columns (total 14 columns):\n",
      " #   Column             Non-Null Count  Dtype  \n",
      "---  ------             --------------  -----  \n",
      " 0   Unnamed: 0         6019 non-null   int64  \n",
      " 1   Name               6019 non-null   object \n",
      " 2   Location           6019 non-null   object \n",
      " 3   Year               6019 non-null   int64  \n",
      " 4   Kilometers_Driven  6019 non-null   int64  \n",
      " 5   Fuel_Type          6019 non-null   object \n",
      " 6   Transmission       6019 non-null   object \n",
      " 7   Owner_Type         6019 non-null   object \n",
      " 8   Mileage            6017 non-null   object \n",
      " 9   Engine             5983 non-null   object \n",
      " 10  Power              5983 non-null   object \n",
      " 11  Seats              5977 non-null   float64\n",
      " 12  New_Price          824 non-null    object \n",
      " 13  Price              6019 non-null   float64\n",
      "dtypes: float64(2), int64(3), object(9)\n",
      "memory usage: 658.5+ KB\n"
     ]
    }
   ],
   "source": [
    "df.info() # information of the features"
   ]
  },
  {
   "cell_type": "code",
   "execution_count": 6,
   "metadata": {
    "id": "kJAY2k4AUG_z"
   },
   "outputs": [],
   "source": [
    "df.drop([\"Unnamed: 0\"],axis=1,inplace=True) #removing unnecessary \"Unnamend: 0\" column"
   ]
  },
  {
   "cell_type": "code",
   "execution_count": 7,
   "metadata": {
    "colab": {
     "base_uri": "https://localhost:8080/",
     "height": 438
    },
    "id": "u2snAZo3UG_z",
    "outputId": "2497b4f7-e7e8-41f7-ede6-370d344d81db"
   },
   "outputs": [
    {
     "data": {
      "text/html": [
       "<div>\n",
       "<style scoped>\n",
       "    .dataframe tbody tr th:only-of-type {\n",
       "        vertical-align: middle;\n",
       "    }\n",
       "\n",
       "    .dataframe tbody tr th {\n",
       "        vertical-align: top;\n",
       "    }\n",
       "\n",
       "    .dataframe thead th {\n",
       "        text-align: right;\n",
       "    }\n",
       "</style>\n",
       "<table border=\"1\" class=\"dataframe\">\n",
       "  <thead>\n",
       "    <tr style=\"text-align: right;\">\n",
       "      <th></th>\n",
       "      <th>Name</th>\n",
       "      <th>Location</th>\n",
       "      <th>Year</th>\n",
       "      <th>Kilometers_Driven</th>\n",
       "      <th>Fuel_Type</th>\n",
       "      <th>Transmission</th>\n",
       "      <th>Owner_Type</th>\n",
       "      <th>Mileage</th>\n",
       "      <th>Engine</th>\n",
       "      <th>Power</th>\n",
       "      <th>Seats</th>\n",
       "      <th>New_Price</th>\n",
       "      <th>Price</th>\n",
       "    </tr>\n",
       "  </thead>\n",
       "  <tbody>\n",
       "    <tr>\n",
       "      <th>0</th>\n",
       "      <td>Maruti Wagon R LXI CNG</td>\n",
       "      <td>Mumbai</td>\n",
       "      <td>2010</td>\n",
       "      <td>72000</td>\n",
       "      <td>CNG</td>\n",
       "      <td>Manual</td>\n",
       "      <td>First</td>\n",
       "      <td>26.6 km/kg</td>\n",
       "      <td>998 CC</td>\n",
       "      <td>58.16 bhp</td>\n",
       "      <td>5.0</td>\n",
       "      <td>NaN</td>\n",
       "      <td>1.75</td>\n",
       "    </tr>\n",
       "    <tr>\n",
       "      <th>1</th>\n",
       "      <td>Hyundai Creta 1.6 CRDi SX Option</td>\n",
       "      <td>Pune</td>\n",
       "      <td>2015</td>\n",
       "      <td>41000</td>\n",
       "      <td>Diesel</td>\n",
       "      <td>Manual</td>\n",
       "      <td>First</td>\n",
       "      <td>19.67 kmpl</td>\n",
       "      <td>1582 CC</td>\n",
       "      <td>126.2 bhp</td>\n",
       "      <td>5.0</td>\n",
       "      <td>NaN</td>\n",
       "      <td>12.50</td>\n",
       "    </tr>\n",
       "    <tr>\n",
       "      <th>2</th>\n",
       "      <td>Honda Jazz V</td>\n",
       "      <td>Chennai</td>\n",
       "      <td>2011</td>\n",
       "      <td>46000</td>\n",
       "      <td>Petrol</td>\n",
       "      <td>Manual</td>\n",
       "      <td>First</td>\n",
       "      <td>18.2 kmpl</td>\n",
       "      <td>1199 CC</td>\n",
       "      <td>88.7 bhp</td>\n",
       "      <td>5.0</td>\n",
       "      <td>8.61 Lakh</td>\n",
       "      <td>4.50</td>\n",
       "    </tr>\n",
       "    <tr>\n",
       "      <th>3</th>\n",
       "      <td>Maruti Ertiga VDI</td>\n",
       "      <td>Chennai</td>\n",
       "      <td>2012</td>\n",
       "      <td>87000</td>\n",
       "      <td>Diesel</td>\n",
       "      <td>Manual</td>\n",
       "      <td>First</td>\n",
       "      <td>20.77 kmpl</td>\n",
       "      <td>1248 CC</td>\n",
       "      <td>88.76 bhp</td>\n",
       "      <td>7.0</td>\n",
       "      <td>NaN</td>\n",
       "      <td>6.00</td>\n",
       "    </tr>\n",
       "    <tr>\n",
       "      <th>4</th>\n",
       "      <td>Audi A4 New 2.0 TDI Multitronic</td>\n",
       "      <td>Coimbatore</td>\n",
       "      <td>2013</td>\n",
       "      <td>40670</td>\n",
       "      <td>Diesel</td>\n",
       "      <td>Automatic</td>\n",
       "      <td>Second</td>\n",
       "      <td>15.2 kmpl</td>\n",
       "      <td>1968 CC</td>\n",
       "      <td>140.8 bhp</td>\n",
       "      <td>5.0</td>\n",
       "      <td>NaN</td>\n",
       "      <td>17.74</td>\n",
       "    </tr>\n",
       "  </tbody>\n",
       "</table>\n",
       "</div>"
      ],
      "text/plain": [
       "                               Name    Location  Year  Kilometers_Driven  \\\n",
       "0            Maruti Wagon R LXI CNG      Mumbai  2010              72000   \n",
       "1  Hyundai Creta 1.6 CRDi SX Option        Pune  2015              41000   \n",
       "2                      Honda Jazz V     Chennai  2011              46000   \n",
       "3                 Maruti Ertiga VDI     Chennai  2012              87000   \n",
       "4   Audi A4 New 2.0 TDI Multitronic  Coimbatore  2013              40670   \n",
       "\n",
       "  Fuel_Type Transmission Owner_Type     Mileage   Engine      Power  Seats  \\\n",
       "0       CNG       Manual      First  26.6 km/kg   998 CC  58.16 bhp    5.0   \n",
       "1    Diesel       Manual      First  19.67 kmpl  1582 CC  126.2 bhp    5.0   \n",
       "2    Petrol       Manual      First   18.2 kmpl  1199 CC   88.7 bhp    5.0   \n",
       "3    Diesel       Manual      First  20.77 kmpl  1248 CC  88.76 bhp    7.0   \n",
       "4    Diesel    Automatic     Second   15.2 kmpl  1968 CC  140.8 bhp    5.0   \n",
       "\n",
       "   New_Price  Price  \n",
       "0        NaN   1.75  \n",
       "1        NaN  12.50  \n",
       "2  8.61 Lakh   4.50  \n",
       "3        NaN   6.00  \n",
       "4        NaN  17.74  "
      ]
     },
     "execution_count": 7,
     "metadata": {},
     "output_type": "execute_result"
    }
   ],
   "source": [
    "df.head()"
   ]
  },
  {
   "cell_type": "markdown",
   "metadata": {
    "id": "xHD4TSqxUG_0"
   },
   "source": [
    "## Data Preprocessing\n",
    "* Engine, Mileage and Power features contains strings inside like \"CC\" and \"bhp\" so those must be dropped and type conversion for all those columns is needed.\n",
    "* Some features contains not possible values, for instance 'Seats' contains 0 so that sort of anomalies must be solved."
   ]
  },
  {
   "cell_type": "code",
   "execution_count": 8,
   "metadata": {
    "id": "rRVErbnbUG_1"
   },
   "outputs": [],
   "source": [
    "df['Engine'] = df['Engine'].map(lambda x: re.sub(r\"[^0-9.-]\", \"\", str(x)))\n",
    "df['Mileage'] = df['Mileage'].map(lambda x: re.sub(r\"[^0-9.-]\", \"\", str(x)))\n",
    "df['Power'] = df['Power'].map(lambda x: re.sub(r\"[^0-9.-]\", \"\", str(x)))\n",
    "\n",
    "#dropping strings in Engine,Mileage and Power features' rows."
   ]
  },
  {
   "cell_type": "code",
   "execution_count": 9,
   "metadata": {
    "id": "qGhYQxo4UG_1"
   },
   "outputs": [],
   "source": [
    "df['Power'] = pd.to_numeric(df['Power'], errors ='coerce')\n",
    "df['Mileage'] = pd.to_numeric(df['Mileage'], errors ='coerce')\n",
    "df['Engine'] = pd.to_numeric(df['Engine'], errors ='coerce')\n",
    "\n",
    "#type conversions string into numeric type"
   ]
  },
  {
   "cell_type": "code",
   "execution_count": 10,
   "metadata": {
    "colab": {
     "base_uri": "https://localhost:8080/",
     "height": 438
    },
    "id": "Fo1Zy5u7UG_2",
    "outputId": "4eef043d-3fcc-4bb9-8c4c-e5152a506834"
   },
   "outputs": [
    {
     "data": {
      "text/html": [
       "<div>\n",
       "<style scoped>\n",
       "    .dataframe tbody tr th:only-of-type {\n",
       "        vertical-align: middle;\n",
       "    }\n",
       "\n",
       "    .dataframe tbody tr th {\n",
       "        vertical-align: top;\n",
       "    }\n",
       "\n",
       "    .dataframe thead th {\n",
       "        text-align: right;\n",
       "    }\n",
       "</style>\n",
       "<table border=\"1\" class=\"dataframe\">\n",
       "  <thead>\n",
       "    <tr style=\"text-align: right;\">\n",
       "      <th></th>\n",
       "      <th>Name</th>\n",
       "      <th>Location</th>\n",
       "      <th>Year</th>\n",
       "      <th>Kilometers_Driven</th>\n",
       "      <th>Fuel_Type</th>\n",
       "      <th>Transmission</th>\n",
       "      <th>Owner_Type</th>\n",
       "      <th>Mileage</th>\n",
       "      <th>Engine</th>\n",
       "      <th>Power</th>\n",
       "      <th>Seats</th>\n",
       "      <th>New_Price</th>\n",
       "      <th>Price</th>\n",
       "    </tr>\n",
       "  </thead>\n",
       "  <tbody>\n",
       "    <tr>\n",
       "      <th>0</th>\n",
       "      <td>Maruti Wagon R LXI CNG</td>\n",
       "      <td>Mumbai</td>\n",
       "      <td>2010</td>\n",
       "      <td>72000</td>\n",
       "      <td>CNG</td>\n",
       "      <td>Manual</td>\n",
       "      <td>First</td>\n",
       "      <td>26.60</td>\n",
       "      <td>998.0</td>\n",
       "      <td>58.16</td>\n",
       "      <td>5.0</td>\n",
       "      <td>NaN</td>\n",
       "      <td>1.75</td>\n",
       "    </tr>\n",
       "    <tr>\n",
       "      <th>1</th>\n",
       "      <td>Hyundai Creta 1.6 CRDi SX Option</td>\n",
       "      <td>Pune</td>\n",
       "      <td>2015</td>\n",
       "      <td>41000</td>\n",
       "      <td>Diesel</td>\n",
       "      <td>Manual</td>\n",
       "      <td>First</td>\n",
       "      <td>19.67</td>\n",
       "      <td>1582.0</td>\n",
       "      <td>126.20</td>\n",
       "      <td>5.0</td>\n",
       "      <td>NaN</td>\n",
       "      <td>12.50</td>\n",
       "    </tr>\n",
       "    <tr>\n",
       "      <th>2</th>\n",
       "      <td>Honda Jazz V</td>\n",
       "      <td>Chennai</td>\n",
       "      <td>2011</td>\n",
       "      <td>46000</td>\n",
       "      <td>Petrol</td>\n",
       "      <td>Manual</td>\n",
       "      <td>First</td>\n",
       "      <td>18.20</td>\n",
       "      <td>1199.0</td>\n",
       "      <td>88.70</td>\n",
       "      <td>5.0</td>\n",
       "      <td>8.61 Lakh</td>\n",
       "      <td>4.50</td>\n",
       "    </tr>\n",
       "    <tr>\n",
       "      <th>3</th>\n",
       "      <td>Maruti Ertiga VDI</td>\n",
       "      <td>Chennai</td>\n",
       "      <td>2012</td>\n",
       "      <td>87000</td>\n",
       "      <td>Diesel</td>\n",
       "      <td>Manual</td>\n",
       "      <td>First</td>\n",
       "      <td>20.77</td>\n",
       "      <td>1248.0</td>\n",
       "      <td>88.76</td>\n",
       "      <td>7.0</td>\n",
       "      <td>NaN</td>\n",
       "      <td>6.00</td>\n",
       "    </tr>\n",
       "    <tr>\n",
       "      <th>4</th>\n",
       "      <td>Audi A4 New 2.0 TDI Multitronic</td>\n",
       "      <td>Coimbatore</td>\n",
       "      <td>2013</td>\n",
       "      <td>40670</td>\n",
       "      <td>Diesel</td>\n",
       "      <td>Automatic</td>\n",
       "      <td>Second</td>\n",
       "      <td>15.20</td>\n",
       "      <td>1968.0</td>\n",
       "      <td>140.80</td>\n",
       "      <td>5.0</td>\n",
       "      <td>NaN</td>\n",
       "      <td>17.74</td>\n",
       "    </tr>\n",
       "  </tbody>\n",
       "</table>\n",
       "</div>"
      ],
      "text/plain": [
       "                               Name    Location  Year  Kilometers_Driven  \\\n",
       "0            Maruti Wagon R LXI CNG      Mumbai  2010              72000   \n",
       "1  Hyundai Creta 1.6 CRDi SX Option        Pune  2015              41000   \n",
       "2                      Honda Jazz V     Chennai  2011              46000   \n",
       "3                 Maruti Ertiga VDI     Chennai  2012              87000   \n",
       "4   Audi A4 New 2.0 TDI Multitronic  Coimbatore  2013              40670   \n",
       "\n",
       "  Fuel_Type Transmission Owner_Type  Mileage  Engine   Power  Seats  \\\n",
       "0       CNG       Manual      First    26.60   998.0   58.16    5.0   \n",
       "1    Diesel       Manual      First    19.67  1582.0  126.20    5.0   \n",
       "2    Petrol       Manual      First    18.20  1199.0   88.70    5.0   \n",
       "3    Diesel       Manual      First    20.77  1248.0   88.76    7.0   \n",
       "4    Diesel    Automatic     Second    15.20  1968.0  140.80    5.0   \n",
       "\n",
       "   New_Price  Price  \n",
       "0        NaN   1.75  \n",
       "1        NaN  12.50  \n",
       "2  8.61 Lakh   4.50  \n",
       "3        NaN   6.00  \n",
       "4        NaN  17.74  "
      ]
     },
     "execution_count": 10,
     "metadata": {},
     "output_type": "execute_result"
    }
   ],
   "source": [
    "df.head()"
   ]
  },
  {
   "cell_type": "markdown",
   "metadata": {
    "id": "G8-q4T00UG_2"
   },
   "source": [
    "## Dealing with Missing Values"
   ]
  },
  {
   "cell_type": "code",
   "execution_count": 11,
   "metadata": {
    "colab": {
     "base_uri": "https://localhost:8080/",
     "height": 452
    },
    "id": "xn5cyAE1UG_3",
    "outputId": "44290329-3ec9-4435-fad1-b7812cf770c3"
   },
   "outputs": [
    {
     "data": {
      "text/html": [
       "<div>\n",
       "<style scoped>\n",
       "    .dataframe tbody tr th:only-of-type {\n",
       "        vertical-align: middle;\n",
       "    }\n",
       "\n",
       "    .dataframe tbody tr th {\n",
       "        vertical-align: top;\n",
       "    }\n",
       "\n",
       "    .dataframe thead th {\n",
       "        text-align: right;\n",
       "    }\n",
       "</style>\n",
       "<table border=\"1\" class=\"dataframe\">\n",
       "  <thead>\n",
       "    <tr style=\"text-align: right;\">\n",
       "      <th></th>\n",
       "      <th>Missing_Percentage</th>\n",
       "    </tr>\n",
       "  </thead>\n",
       "  <tbody>\n",
       "    <tr>\n",
       "      <th>New_Price</th>\n",
       "      <td>86.310</td>\n",
       "    </tr>\n",
       "    <tr>\n",
       "      <th>Power</th>\n",
       "      <td>2.376</td>\n",
       "    </tr>\n",
       "    <tr>\n",
       "      <th>Seats</th>\n",
       "      <td>0.698</td>\n",
       "    </tr>\n",
       "    <tr>\n",
       "      <th>Engine</th>\n",
       "      <td>0.598</td>\n",
       "    </tr>\n",
       "    <tr>\n",
       "      <th>Mileage</th>\n",
       "      <td>0.033</td>\n",
       "    </tr>\n",
       "    <tr>\n",
       "      <th>Name</th>\n",
       "      <td>0.000</td>\n",
       "    </tr>\n",
       "    <tr>\n",
       "      <th>Location</th>\n",
       "      <td>0.000</td>\n",
       "    </tr>\n",
       "    <tr>\n",
       "      <th>Year</th>\n",
       "      <td>0.000</td>\n",
       "    </tr>\n",
       "    <tr>\n",
       "      <th>Kilometers_Driven</th>\n",
       "      <td>0.000</td>\n",
       "    </tr>\n",
       "    <tr>\n",
       "      <th>Fuel_Type</th>\n",
       "      <td>0.000</td>\n",
       "    </tr>\n",
       "    <tr>\n",
       "      <th>Transmission</th>\n",
       "      <td>0.000</td>\n",
       "    </tr>\n",
       "    <tr>\n",
       "      <th>Owner_Type</th>\n",
       "      <td>0.000</td>\n",
       "    </tr>\n",
       "    <tr>\n",
       "      <th>Price</th>\n",
       "      <td>0.000</td>\n",
       "    </tr>\n",
       "  </tbody>\n",
       "</table>\n",
       "</div>"
      ],
      "text/plain": [
       "                   Missing_Percentage\n",
       "New_Price                      86.310\n",
       "Power                           2.376\n",
       "Seats                           0.698\n",
       "Engine                          0.598\n",
       "Mileage                         0.033\n",
       "Name                            0.000\n",
       "Location                        0.000\n",
       "Year                            0.000\n",
       "Kilometers_Driven               0.000\n",
       "Fuel_Type                       0.000\n",
       "Transmission                    0.000\n",
       "Owner_Type                      0.000\n",
       "Price                           0.000"
      ]
     },
     "execution_count": 11,
     "metadata": {},
     "output_type": "execute_result"
    }
   ],
   "source": [
    "percent_missing = round(df.isnull().sum() * 100 / len(df),3)\n",
    "missing_value_df = pd.DataFrame({'Missing_Percentage': percent_missing})\n",
    "missing_value_df.sort_values(by=\"Missing_Percentage\",ascending=False).head(15)\n",
    "\n",
    "# \"New_Price\" feature contains about 86% of missing values inside it, will be dropped.\n",
    "# Power, Seats, Engine and Mileage features have a few missing values so filling with median method will be used to fix it."
   ]
  },
  {
   "cell_type": "code",
   "execution_count": 12,
   "metadata": {
    "id": "fgFbGwM0UG_3"
   },
   "outputs": [],
   "source": [
    "df.drop([\"New_Price\"],axis=1,inplace=True) #removing \"New_Price\" column"
   ]
  },
  {
   "cell_type": "code",
   "execution_count": 13,
   "metadata": {
    "id": "oTxSdhxlUG_3"
   },
   "outputs": [],
   "source": [
    "df[\"Engine\"] = df[\"Engine\"].fillna(df[\"Engine\"].median())\n",
    "df[\"Power\"] = df[\"Power\"].fillna(df[\"Power\"].median())\n",
    "df[\"Seats\"] = df[\"Seats\"].fillna(df[\"Seats\"].median())\n",
    "df[\"Mileage\"] = df[\"Mileage\"].fillna(df[\"Mileage\"].median())\n",
    "\n",
    "# Filling missing values with their median values"
   ]
  },
  {
   "cell_type": "code",
   "execution_count": 14,
   "metadata": {
    "colab": {
     "base_uri": "https://localhost:8080/"
    },
    "id": "gO2ieS76UG_4",
    "outputId": "ab55b946-92da-4918-de36-1fbb72d8e911"
   },
   "outputs": [
    {
     "data": {
      "text/plain": [
       "Name                 0\n",
       "Location             0\n",
       "Year                 0\n",
       "Kilometers_Driven    0\n",
       "Fuel_Type            0\n",
       "Transmission         0\n",
       "Owner_Type           0\n",
       "Mileage              0\n",
       "Engine               0\n",
       "Power                0\n",
       "Seats                0\n",
       "Price                0\n",
       "dtype: int64"
      ]
     },
     "execution_count": 14,
     "metadata": {},
     "output_type": "execute_result"
    }
   ],
   "source": [
    "df.isnull().sum() # No more missing values"
   ]
  },
  {
   "cell_type": "markdown",
   "metadata": {
    "id": "LKIktFMnUG_4"
   },
   "source": [
    "## Dealing with Duplicated Values"
   ]
  },
  {
   "cell_type": "code",
   "execution_count": 15,
   "metadata": {
    "colab": {
     "base_uri": "https://localhost:8080/"
    },
    "id": "a-9Ei_GhUG_5",
    "outputId": "842a1421-a887-46fa-9b61-17d822144840"
   },
   "outputs": [
    {
     "data": {
      "text/plain": [
       "False"
      ]
     },
     "execution_count": 15,
     "metadata": {},
     "output_type": "execute_result"
    }
   ],
   "source": [
    "df.duplicated().any() # No duplication in the dataset so we don't need to do something."
   ]
  },
  {
   "cell_type": "markdown",
   "metadata": {
    "id": "lX_79TzXUG_5"
   },
   "source": [
    "## Feature Engineering"
   ]
  },
  {
   "cell_type": "code",
   "execution_count": 16,
   "metadata": {
    "colab": {
     "base_uri": "https://localhost:8080/",
     "height": 268
    },
    "id": "NJ4XoudvUG_6",
    "outputId": "b3c4bd99-8775-4807-ce4b-2d67cba3e795"
   },
   "outputs": [
    {
     "data": {
      "text/html": [
       "<div>\n",
       "<style scoped>\n",
       "    .dataframe tbody tr th:only-of-type {\n",
       "        vertical-align: middle;\n",
       "    }\n",
       "\n",
       "    .dataframe tbody tr th {\n",
       "        vertical-align: top;\n",
       "    }\n",
       "\n",
       "    .dataframe thead th {\n",
       "        text-align: right;\n",
       "    }\n",
       "</style>\n",
       "<table border=\"1\" class=\"dataframe\">\n",
       "  <thead>\n",
       "    <tr style=\"text-align: right;\">\n",
       "      <th></th>\n",
       "      <th>Location</th>\n",
       "      <th>Year</th>\n",
       "      <th>Kilometers_Driven</th>\n",
       "      <th>Fuel_Type</th>\n",
       "      <th>Transmission</th>\n",
       "      <th>Owner_Type</th>\n",
       "      <th>Mileage</th>\n",
       "      <th>Engine</th>\n",
       "      <th>Power</th>\n",
       "      <th>Seats</th>\n",
       "      <th>Price</th>\n",
       "      <th>Brand</th>\n",
       "    </tr>\n",
       "  </thead>\n",
       "  <tbody>\n",
       "    <tr>\n",
       "      <th>0</th>\n",
       "      <td>Mumbai</td>\n",
       "      <td>2010</td>\n",
       "      <td>72000</td>\n",
       "      <td>CNG</td>\n",
       "      <td>Manual</td>\n",
       "      <td>First</td>\n",
       "      <td>26.60</td>\n",
       "      <td>998.0</td>\n",
       "      <td>58.16</td>\n",
       "      <td>5.0</td>\n",
       "      <td>1.75</td>\n",
       "      <td>Maruti</td>\n",
       "    </tr>\n",
       "    <tr>\n",
       "      <th>1</th>\n",
       "      <td>Pune</td>\n",
       "      <td>2015</td>\n",
       "      <td>41000</td>\n",
       "      <td>Diesel</td>\n",
       "      <td>Manual</td>\n",
       "      <td>First</td>\n",
       "      <td>19.67</td>\n",
       "      <td>1582.0</td>\n",
       "      <td>126.20</td>\n",
       "      <td>5.0</td>\n",
       "      <td>12.50</td>\n",
       "      <td>Hyundai</td>\n",
       "    </tr>\n",
       "    <tr>\n",
       "      <th>2</th>\n",
       "      <td>Chennai</td>\n",
       "      <td>2011</td>\n",
       "      <td>46000</td>\n",
       "      <td>Petrol</td>\n",
       "      <td>Manual</td>\n",
       "      <td>First</td>\n",
       "      <td>18.20</td>\n",
       "      <td>1199.0</td>\n",
       "      <td>88.70</td>\n",
       "      <td>5.0</td>\n",
       "      <td>4.50</td>\n",
       "      <td>Honda</td>\n",
       "    </tr>\n",
       "    <tr>\n",
       "      <th>3</th>\n",
       "      <td>Chennai</td>\n",
       "      <td>2012</td>\n",
       "      <td>87000</td>\n",
       "      <td>Diesel</td>\n",
       "      <td>Manual</td>\n",
       "      <td>First</td>\n",
       "      <td>20.77</td>\n",
       "      <td>1248.0</td>\n",
       "      <td>88.76</td>\n",
       "      <td>7.0</td>\n",
       "      <td>6.00</td>\n",
       "      <td>Maruti</td>\n",
       "    </tr>\n",
       "    <tr>\n",
       "      <th>4</th>\n",
       "      <td>Coimbatore</td>\n",
       "      <td>2013</td>\n",
       "      <td>40670</td>\n",
       "      <td>Diesel</td>\n",
       "      <td>Automatic</td>\n",
       "      <td>Second</td>\n",
       "      <td>15.20</td>\n",
       "      <td>1968.0</td>\n",
       "      <td>140.80</td>\n",
       "      <td>5.0</td>\n",
       "      <td>17.74</td>\n",
       "      <td>Audi</td>\n",
       "    </tr>\n",
       "  </tbody>\n",
       "</table>\n",
       "</div>"
      ],
      "text/plain": [
       "     Location  Year  Kilometers_Driven Fuel_Type Transmission Owner_Type  \\\n",
       "0      Mumbai  2010              72000       CNG       Manual      First   \n",
       "1        Pune  2015              41000    Diesel       Manual      First   \n",
       "2     Chennai  2011              46000    Petrol       Manual      First   \n",
       "3     Chennai  2012              87000    Diesel       Manual      First   \n",
       "4  Coimbatore  2013              40670    Diesel    Automatic     Second   \n",
       "\n",
       "   Mileage  Engine   Power  Seats  Price    Brand  \n",
       "0    26.60   998.0   58.16    5.0   1.75   Maruti  \n",
       "1    19.67  1582.0  126.20    5.0  12.50  Hyundai  \n",
       "2    18.20  1199.0   88.70    5.0   4.50    Honda  \n",
       "3    20.77  1248.0   88.76    7.0   6.00   Maruti  \n",
       "4    15.20  1968.0  140.80    5.0  17.74     Audi  "
      ]
     },
     "execution_count": 16,
     "metadata": {},
     "output_type": "execute_result"
    }
   ],
   "source": [
    "df[\"Brand\"] = df[\"Name\"].apply(lambda x : x.split()[0]) # Taking the brand name of the producer company from \"Name\" feature\n",
    "df.drop(['Name'],axis=1,inplace=True) # dropping 'Name' feature after creating \"Brand\" new feature\n",
    "df.head()"
   ]
  },
  {
   "cell_type": "code",
   "execution_count": 17,
   "metadata": {
    "colab": {
     "base_uri": "https://localhost:8080/"
    },
    "id": "nr7ltL8fUG_6",
    "outputId": "84a1b96c-eb45-4497-91a6-56264691f7f1"
   },
   "outputs": [
    {
     "data": {
      "text/plain": [
       "array(['Maruti', 'Hyundai', 'Honda', 'Audi', 'Nissan', 'Toyota',\n",
       "       'Volkswagen', 'Tata', 'Land', 'Mitsubishi', 'Renault',\n",
       "       'Mercedes-Benz', 'BMW', 'Mahindra', 'Ford', 'Porsche', 'Datsun',\n",
       "       'Jaguar', 'Volvo', 'Chevrolet', 'Skoda', 'Mini', 'Fiat', 'Jeep',\n",
       "       'Smart', 'Ambassador', 'Isuzu', 'ISUZU', 'Force', 'Bentley',\n",
       "       'Lamborghini'], dtype=object)"
      ]
     },
     "execution_count": 17,
     "metadata": {},
     "output_type": "execute_result"
    }
   ],
   "source": [
    "df[\"Brand\"].unique()\n",
    "#There are two features that have the same brand but named as 'Isuzu' and 'ISUZU' so we must deal with this problem as well."
   ]
  },
  {
   "cell_type": "code",
   "execution_count": 18,
   "metadata": {
    "id": "9w7wMjSrUG_7"
   },
   "outputs": [],
   "source": [
    "df['Brand'] = df['Brand'].str.upper()\n",
    "# Making uppercase all those features will solve the issue here."
   ]
  },
  {
   "cell_type": "code",
   "execution_count": 19,
   "metadata": {
    "colab": {
     "base_uri": "https://localhost:8080/"
    },
    "id": "iXBmCW_8UG_7",
    "outputId": "867957dd-8856-41b3-a429-dda23e5bebe3"
   },
   "outputs": [
    {
     "data": {
      "text/plain": [
       "array(['MARUTI', 'HYUNDAI', 'HONDA', 'AUDI', 'NISSAN', 'TOYOTA',\n",
       "       'VOLKSWAGEN', 'TATA', 'LAND', 'MITSUBISHI', 'RENAULT',\n",
       "       'MERCEDES-BENZ', 'BMW', 'MAHINDRA', 'FORD', 'PORSCHE', 'DATSUN',\n",
       "       'JAGUAR', 'VOLVO', 'CHEVROLET', 'SKODA', 'MINI', 'FIAT', 'JEEP',\n",
       "       'SMART', 'AMBASSADOR', 'ISUZU', 'FORCE', 'BENTLEY', 'LAMBORGHINI'],\n",
       "      dtype=object)"
      ]
     },
     "execution_count": 19,
     "metadata": {},
     "output_type": "execute_result"
    }
   ],
   "source": [
    "df[\"Brand\"].unique()\n",
    "# No more that sort of problems in the dataset."
   ]
  },
  {
   "cell_type": "code",
   "execution_count": 20,
   "metadata": {
    "colab": {
     "base_uri": "https://localhost:8080/"
    },
    "id": "ria9dBIUUG_7",
    "outputId": "4d9001f2-16a7-48bd-fd48-dcf9f8b203b3"
   },
   "outputs": [
    {
     "data": {
      "text/plain": [
       "MARUTI           1211\n",
       "HYUNDAI          1107\n",
       "HONDA             608\n",
       "TOYOTA            411\n",
       "MERCEDES-BENZ     318\n",
       "VOLKSWAGEN        315\n",
       "FORD              300\n",
       "MAHINDRA          272\n",
       "BMW               267\n",
       "AUDI              236\n",
       "TATA              186\n",
       "SKODA             173\n",
       "RENAULT           145\n",
       "CHEVROLET         121\n",
       "NISSAN             91\n",
       "LAND               60\n",
       "JAGUAR             40\n",
       "FIAT               28\n",
       "MITSUBISHI         27\n",
       "MINI               26\n",
       "VOLVO              21\n",
       "PORSCHE            18\n",
       "JEEP               15\n",
       "DATSUN             13\n",
       "FORCE               3\n",
       "ISUZU               3\n",
       "AMBASSADOR          1\n",
       "BENTLEY             1\n",
       "LAMBORGHINI         1\n",
       "SMART               1\n",
       "Name: Brand, dtype: int64"
      ]
     },
     "execution_count": 20,
     "metadata": {},
     "output_type": "execute_result"
    }
   ],
   "source": [
    "df['Brand'].value_counts()\n",
    "# Some of the brands have really less samples, they can be caused outlier problem so we must drop those rows."
   ]
  },
  {
   "cell_type": "code",
   "execution_count": 21,
   "metadata": {
    "colab": {
     "base_uri": "https://localhost:8080/"
    },
    "id": "PQ4xvYbOUG_8",
    "outputId": "240174f6-a5ab-4f64-80ab-b1f61226a443"
   },
   "outputs": [
    {
     "data": {
      "text/plain": [
       "FORCE          3\n",
       "ISUZU          3\n",
       "AMBASSADOR     1\n",
       "BENTLEY        1\n",
       "LAMBORGHINI    1\n",
       "SMART          1\n",
       "Name: Brand, dtype: int64"
      ]
     },
     "execution_count": 21,
     "metadata": {},
     "output_type": "execute_result"
    }
   ],
   "source": [
    "df['Brand'].value_counts()[df['Brand'].value_counts()<5] # Brands that have less than 5 samples"
   ]
  },
  {
   "cell_type": "code",
   "execution_count": 22,
   "metadata": {
    "id": "AmOftuVEUG_8"
   },
   "outputs": [],
   "source": [
    "i = df['Brand'].value_counts()[df['Brand'].value_counts()<5].index\n",
    "index = df[df['Brand'].isin(i)].index\n",
    "df.drop(index,axis=0,inplace=True)\n",
    "\n",
    "# dropping those samples by their indexes"
   ]
  },
  {
   "cell_type": "code",
   "execution_count": 23,
   "metadata": {
    "colab": {
     "base_uri": "https://localhost:8080/"
    },
    "id": "3GG5BA4zUG_8",
    "outputId": "c59b4663-5a7b-49ec-8fb4-999da8789e92"
   },
   "outputs": [
    {
     "data": {
      "text/plain": [
       "Series([], Name: Brand, dtype: int64)"
      ]
     },
     "execution_count": 23,
     "metadata": {},
     "output_type": "execute_result"
    }
   ],
   "source": [
    "df['Brand'].value_counts()[df['Brand'].value_counts()<5] # No more rows that counts less than 5."
   ]
  },
  {
   "cell_type": "markdown",
   "metadata": {
    "id": "-bfPMo1dUG_9"
   },
   "source": [
    "## Dealing with Data Issues"
   ]
  },
  {
   "cell_type": "markdown",
   "metadata": {
    "id": "qRO4vuJxUG_9"
   },
   "source": [
    "### 1- 'Seats' Feature"
   ]
  },
  {
   "cell_type": "code",
   "execution_count": 24,
   "metadata": {
    "colab": {
     "base_uri": "https://localhost:8080/"
    },
    "id": "iHgBGMYUUG_9",
    "outputId": "96f3756b-1b16-4c08-b915-29f4a15f14ae"
   },
   "outputs": [
    {
     "data": {
      "text/plain": [
       "5.0     5053\n",
       "7.0      670\n",
       "8.0      134\n",
       "4.0       98\n",
       "6.0       31\n",
       "2.0       14\n",
       "10.0       5\n",
       "9.0        3\n",
       "0.0        1\n",
       "Name: Seats, dtype: int64"
      ]
     },
     "execution_count": 24,
     "metadata": {},
     "output_type": "execute_result"
    }
   ],
   "source": [
    "df['Seats'].value_counts()\n",
    "#0 seats cars won't be possible in real life, must be dropped that value."
   ]
  },
  {
   "cell_type": "code",
   "execution_count": 25,
   "metadata": {
    "id": "_kbEa4C5UG_9"
   },
   "outputs": [],
   "source": [
    "df.drop(df[df['Seats']==0].index,axis=0,inplace=True) # dropping the rows contains 0 seats"
   ]
  },
  {
   "cell_type": "markdown",
   "metadata": {
    "id": "pR6PqelBUG_-"
   },
   "source": [
    "### 2- 'Year' Feature"
   ]
  },
  {
   "cell_type": "code",
   "execution_count": 26,
   "metadata": {
    "colab": {
     "base_uri": "https://localhost:8080/"
    },
    "id": "5PV_2xynUG_-",
    "outputId": "5ff39071-9ace-4d19-811a-e209801a5550"
   },
   "outputs": [
    {
     "data": {
      "text/plain": [
       "2014    794\n",
       "2015    744\n",
       "2016    741\n",
       "2013    649\n",
       "2017    585\n",
       "2012    579\n",
       "2011    465\n",
       "2010    342\n",
       "2018    297\n",
       "2009    198\n",
       "2008    173\n",
       "2007    125\n",
       "2019    102\n",
       "2006     77\n",
       "2005     57\n",
       "2004     31\n",
       "2003     16\n",
       "2002     15\n",
       "2001      8\n",
       "1998      4\n",
       "2000      4\n",
       "1999      2\n",
       "Name: Year, dtype: int64"
      ]
     },
     "execution_count": 26,
     "metadata": {},
     "output_type": "execute_result"
    }
   ],
   "source": [
    "df['Year'].value_counts()"
   ]
  },
  {
   "cell_type": "code",
   "execution_count": 27,
   "metadata": {
    "id": "4GXX1yJgUG__"
   },
   "outputs": [],
   "source": [
    "df['Year']=df['Year'].astype(str) #Year feature is transformed into string from integer.\n",
    "df['Year']=np.where(df['Year'].astype(int)<2004,\"Less than 2004\",df['Year']) \n",
    "# if the year is less than 2004, called the rows as \"Less than 2004\""
   ]
  },
  {
   "cell_type": "code",
   "execution_count": 28,
   "metadata": {
    "colab": {
     "base_uri": "https://localhost:8080/"
    },
    "id": "GtkqZdRfUHAA",
    "outputId": "acc6ba88-8c59-4739-c306-87212d424e4c"
   },
   "outputs": [
    {
     "data": {
      "text/plain": [
       "2014              794\n",
       "2015              744\n",
       "2016              741\n",
       "2013              649\n",
       "2017              585\n",
       "2012              579\n",
       "2011              465\n",
       "2010              342\n",
       "2018              297\n",
       "2009              198\n",
       "2008              173\n",
       "2007              125\n",
       "2019              102\n",
       "2006               77\n",
       "2005               57\n",
       "Less than 2004     49\n",
       "2004               31\n",
       "Name: Year, dtype: int64"
      ]
     },
     "execution_count": 28,
     "metadata": {},
     "output_type": "execute_result"
    }
   ],
   "source": [
    "df['Year'].value_counts() # New value called \"Less than 2004\" is created"
   ]
  },
  {
   "cell_type": "markdown",
   "metadata": {
    "id": "hSEpMNW_UHAB"
   },
   "source": [
    "### 3- 'Fuel_Type' Feature"
   ]
  },
  {
   "cell_type": "code",
   "execution_count": 29,
   "metadata": {
    "colab": {
     "base_uri": "https://localhost:8080/"
    },
    "id": "tCNBwvD6UHAB",
    "outputId": "b2b1cadd-17df-43ae-a2b1-371c77fd688d"
   },
   "outputs": [
    {
     "data": {
      "text/plain": [
       "Diesel      3197\n",
       "Petrol      2743\n",
       "CNG           56\n",
       "LPG           10\n",
       "Electric       2\n",
       "Name: Fuel_Type, dtype: int64"
      ]
     },
     "execution_count": 29,
     "metadata": {},
     "output_type": "execute_result"
    }
   ],
   "source": [
    "df.Fuel_Type.value_counts() # CNG, LPG and Electric rows can be grouped."
   ]
  },
  {
   "cell_type": "code",
   "execution_count": 30,
   "metadata": {
    "id": "X6siTNTpUHAC"
   },
   "outputs": [],
   "source": [
    "df['Fuel_Type']=np.where(df[\"Fuel_Type\"].str.contains(\"CNG|LPG|Electric\"),'Other',df[\"Fuel_Type\"]) # Grouped as \"Other\""
   ]
  },
  {
   "cell_type": "code",
   "execution_count": 31,
   "metadata": {
    "colab": {
     "base_uri": "https://localhost:8080/"
    },
    "id": "ZYRW1P2IUHAC",
    "outputId": "7fa496d4-1286-48f1-de61-a58eeb75720a"
   },
   "outputs": [
    {
     "data": {
      "text/plain": [
       "Diesel    3197\n",
       "Petrol    2743\n",
       "Other       68\n",
       "Name: Fuel_Type, dtype: int64"
      ]
     },
     "execution_count": 31,
     "metadata": {},
     "output_type": "execute_result"
    }
   ],
   "source": [
    "df.Fuel_Type.value_counts()"
   ]
  },
  {
   "cell_type": "markdown",
   "metadata": {
    "id": "9lfdRYoMUHAC"
   },
   "source": [
    "### 4- 'Owner_Type' Feature"
   ]
  },
  {
   "cell_type": "code",
   "execution_count": 32,
   "metadata": {
    "colab": {
     "base_uri": "https://localhost:8080/"
    },
    "id": "mVmN4DxeUHAD",
    "outputId": "b731a3a2-1b45-49d6-e14e-7726069bf9dd"
   },
   "outputs": [
    {
     "data": {
      "text/plain": [
       "First             4921\n",
       "Second             967\n",
       "Third              111\n",
       "Fourth & Above       9\n",
       "Name: Owner_Type, dtype: int64"
      ]
     },
     "execution_count": 32,
     "metadata": {},
     "output_type": "execute_result"
    }
   ],
   "source": [
    "df.Owner_Type.value_counts()"
   ]
  },
  {
   "cell_type": "code",
   "execution_count": 33,
   "metadata": {
    "id": "pQfKi_REUHAH"
   },
   "outputs": [],
   "source": [
    "df['Owner_Type']=np.where(df[\"Owner_Type\"].str.contains(\"Third|Fourth & Above\"),'Other',df[\"Owner_Type\"]) "
   ]
  },
  {
   "cell_type": "code",
   "execution_count": 34,
   "metadata": {
    "colab": {
     "base_uri": "https://localhost:8080/"
    },
    "id": "usNDV5sIUHAH",
    "outputId": "41d4ab8c-321e-4889-e637-4667ea6623b8"
   },
   "outputs": [
    {
     "data": {
      "text/plain": [
       "First     4921\n",
       "Second     967\n",
       "Other      120\n",
       "Name: Owner_Type, dtype: int64"
      ]
     },
     "execution_count": 34,
     "metadata": {},
     "output_type": "execute_result"
    }
   ],
   "source": [
    "df.Owner_Type.value_counts()"
   ]
  },
  {
   "cell_type": "code",
   "execution_count": 35,
   "metadata": {
    "colab": {
     "base_uri": "https://localhost:8080/",
     "height": 268
    },
    "id": "dSrgMGW2UHAI",
    "outputId": "242a518a-bd8f-4160-8fde-092912c1827f"
   },
   "outputs": [
    {
     "data": {
      "text/html": [
       "<div>\n",
       "<style scoped>\n",
       "    .dataframe tbody tr th:only-of-type {\n",
       "        vertical-align: middle;\n",
       "    }\n",
       "\n",
       "    .dataframe tbody tr th {\n",
       "        vertical-align: top;\n",
       "    }\n",
       "\n",
       "    .dataframe thead th {\n",
       "        text-align: right;\n",
       "    }\n",
       "</style>\n",
       "<table border=\"1\" class=\"dataframe\">\n",
       "  <thead>\n",
       "    <tr style=\"text-align: right;\">\n",
       "      <th></th>\n",
       "      <th>Location</th>\n",
       "      <th>Year</th>\n",
       "      <th>Kilometers_Driven</th>\n",
       "      <th>Fuel_Type</th>\n",
       "      <th>Transmission</th>\n",
       "      <th>Owner_Type</th>\n",
       "      <th>Mileage</th>\n",
       "      <th>Engine</th>\n",
       "      <th>Power</th>\n",
       "      <th>Seats</th>\n",
       "      <th>Price</th>\n",
       "      <th>Brand</th>\n",
       "    </tr>\n",
       "  </thead>\n",
       "  <tbody>\n",
       "    <tr>\n",
       "      <th>0</th>\n",
       "      <td>Mumbai</td>\n",
       "      <td>2010</td>\n",
       "      <td>72000</td>\n",
       "      <td>Other</td>\n",
       "      <td>Manual</td>\n",
       "      <td>First</td>\n",
       "      <td>26.60</td>\n",
       "      <td>998.0</td>\n",
       "      <td>58.16</td>\n",
       "      <td>5.0</td>\n",
       "      <td>1.75</td>\n",
       "      <td>MARUTI</td>\n",
       "    </tr>\n",
       "    <tr>\n",
       "      <th>1</th>\n",
       "      <td>Pune</td>\n",
       "      <td>2015</td>\n",
       "      <td>41000</td>\n",
       "      <td>Diesel</td>\n",
       "      <td>Manual</td>\n",
       "      <td>First</td>\n",
       "      <td>19.67</td>\n",
       "      <td>1582.0</td>\n",
       "      <td>126.20</td>\n",
       "      <td>5.0</td>\n",
       "      <td>12.50</td>\n",
       "      <td>HYUNDAI</td>\n",
       "    </tr>\n",
       "    <tr>\n",
       "      <th>2</th>\n",
       "      <td>Chennai</td>\n",
       "      <td>2011</td>\n",
       "      <td>46000</td>\n",
       "      <td>Petrol</td>\n",
       "      <td>Manual</td>\n",
       "      <td>First</td>\n",
       "      <td>18.20</td>\n",
       "      <td>1199.0</td>\n",
       "      <td>88.70</td>\n",
       "      <td>5.0</td>\n",
       "      <td>4.50</td>\n",
       "      <td>HONDA</td>\n",
       "    </tr>\n",
       "    <tr>\n",
       "      <th>3</th>\n",
       "      <td>Chennai</td>\n",
       "      <td>2012</td>\n",
       "      <td>87000</td>\n",
       "      <td>Diesel</td>\n",
       "      <td>Manual</td>\n",
       "      <td>First</td>\n",
       "      <td>20.77</td>\n",
       "      <td>1248.0</td>\n",
       "      <td>88.76</td>\n",
       "      <td>7.0</td>\n",
       "      <td>6.00</td>\n",
       "      <td>MARUTI</td>\n",
       "    </tr>\n",
       "    <tr>\n",
       "      <th>4</th>\n",
       "      <td>Coimbatore</td>\n",
       "      <td>2013</td>\n",
       "      <td>40670</td>\n",
       "      <td>Diesel</td>\n",
       "      <td>Automatic</td>\n",
       "      <td>Second</td>\n",
       "      <td>15.20</td>\n",
       "      <td>1968.0</td>\n",
       "      <td>140.80</td>\n",
       "      <td>5.0</td>\n",
       "      <td>17.74</td>\n",
       "      <td>AUDI</td>\n",
       "    </tr>\n",
       "  </tbody>\n",
       "</table>\n",
       "</div>"
      ],
      "text/plain": [
       "     Location  Year  Kilometers_Driven Fuel_Type Transmission Owner_Type  \\\n",
       "0      Mumbai  2010              72000     Other       Manual      First   \n",
       "1        Pune  2015              41000    Diesel       Manual      First   \n",
       "2     Chennai  2011              46000    Petrol       Manual      First   \n",
       "3     Chennai  2012              87000    Diesel       Manual      First   \n",
       "4  Coimbatore  2013              40670    Diesel    Automatic     Second   \n",
       "\n",
       "   Mileage  Engine   Power  Seats  Price    Brand  \n",
       "0    26.60   998.0   58.16    5.0   1.75   MARUTI  \n",
       "1    19.67  1582.0  126.20    5.0  12.50  HYUNDAI  \n",
       "2    18.20  1199.0   88.70    5.0   4.50    HONDA  \n",
       "3    20.77  1248.0   88.76    7.0   6.00   MARUTI  \n",
       "4    15.20  1968.0  140.80    5.0  17.74     AUDI  "
      ]
     },
     "execution_count": 35,
     "metadata": {},
     "output_type": "execute_result"
    }
   ],
   "source": [
    "df.head()"
   ]
  },
  {
   "cell_type": "code",
   "execution_count": 36,
   "metadata": {
    "colab": {
     "base_uri": "https://localhost:8080/"
    },
    "id": "Za6cBeYbUHAJ",
    "outputId": "64a7b0a9-bfd3-4dc5-f642-58fb7abacaad"
   },
   "outputs": [
    {
     "name": "stdout",
     "output_type": "stream",
     "text": [
      "<class 'pandas.core.frame.DataFrame'>\n",
      "Int64Index: 6008 entries, 0 to 6018\n",
      "Data columns (total 12 columns):\n",
      " #   Column             Non-Null Count  Dtype  \n",
      "---  ------             --------------  -----  \n",
      " 0   Location           6008 non-null   object \n",
      " 1   Year               6008 non-null   object \n",
      " 2   Kilometers_Driven  6008 non-null   int64  \n",
      " 3   Fuel_Type          6008 non-null   object \n",
      " 4   Transmission       6008 non-null   object \n",
      " 5   Owner_Type         6008 non-null   object \n",
      " 6   Mileage            6008 non-null   float64\n",
      " 7   Engine             6008 non-null   float64\n",
      " 8   Power              6008 non-null   float64\n",
      " 9   Seats              6008 non-null   float64\n",
      " 10  Price              6008 non-null   float64\n",
      " 11  Brand              6008 non-null   object \n",
      "dtypes: float64(5), int64(1), object(6)\n",
      "memory usage: 610.2+ KB\n"
     ]
    }
   ],
   "source": [
    "df.info() # All data types are fixed."
   ]
  },
  {
   "cell_type": "code",
   "execution_count": 37,
   "metadata": {
    "colab": {
     "base_uri": "https://localhost:8080/",
     "height": 299
    },
    "id": "XhG-YybMUHAJ",
    "outputId": "bdfb64d7-967e-4d4c-ae1f-288472f0d97f"
   },
   "outputs": [
    {
     "data": {
      "text/html": [
       "<div>\n",
       "<style scoped>\n",
       "    .dataframe tbody tr th:only-of-type {\n",
       "        vertical-align: middle;\n",
       "    }\n",
       "\n",
       "    .dataframe tbody tr th {\n",
       "        vertical-align: top;\n",
       "    }\n",
       "\n",
       "    .dataframe thead th {\n",
       "        text-align: right;\n",
       "    }\n",
       "</style>\n",
       "<table border=\"1\" class=\"dataframe\">\n",
       "  <thead>\n",
       "    <tr style=\"text-align: right;\">\n",
       "      <th></th>\n",
       "      <th>count</th>\n",
       "      <th>mean</th>\n",
       "      <th>std</th>\n",
       "      <th>min</th>\n",
       "      <th>25%</th>\n",
       "      <th>50%</th>\n",
       "      <th>75%</th>\n",
       "      <th>max</th>\n",
       "    </tr>\n",
       "  </thead>\n",
       "  <tbody>\n",
       "    <tr>\n",
       "      <th>Kilometers_Driven</th>\n",
       "      <td>6008.0</td>\n",
       "      <td>58750.326232</td>\n",
       "      <td>91340.023790</td>\n",
       "      <td>171.00</td>\n",
       "      <td>34000.0</td>\n",
       "      <td>53000.50</td>\n",
       "      <td>73000.00</td>\n",
       "      <td>6500000.00</td>\n",
       "    </tr>\n",
       "    <tr>\n",
       "      <th>Mileage</th>\n",
       "      <td>6008.0</td>\n",
       "      <td>18.146881</td>\n",
       "      <td>4.572386</td>\n",
       "      <td>0.00</td>\n",
       "      <td>15.2</td>\n",
       "      <td>18.16</td>\n",
       "      <td>21.10</td>\n",
       "      <td>33.54</td>\n",
       "    </tr>\n",
       "    <tr>\n",
       "      <th>Engine</th>\n",
       "      <td>6008.0</td>\n",
       "      <td>1618.277630</td>\n",
       "      <td>594.666143</td>\n",
       "      <td>72.00</td>\n",
       "      <td>1198.0</td>\n",
       "      <td>1493.00</td>\n",
       "      <td>1968.00</td>\n",
       "      <td>5461.00</td>\n",
       "    </tr>\n",
       "    <tr>\n",
       "      <th>Power</th>\n",
       "      <td>6008.0</td>\n",
       "      <td>112.723612</td>\n",
       "      <td>52.694872</td>\n",
       "      <td>34.20</td>\n",
       "      <td>78.0</td>\n",
       "      <td>97.70</td>\n",
       "      <td>138.03</td>\n",
       "      <td>550.00</td>\n",
       "    </tr>\n",
       "    <tr>\n",
       "      <th>Seats</th>\n",
       "      <td>6008.0</td>\n",
       "      <td>5.277963</td>\n",
       "      <td>0.800554</td>\n",
       "      <td>2.00</td>\n",
       "      <td>5.0</td>\n",
       "      <td>5.00</td>\n",
       "      <td>5.00</td>\n",
       "      <td>10.00</td>\n",
       "    </tr>\n",
       "    <tr>\n",
       "      <th>Price</th>\n",
       "      <td>6008.0</td>\n",
       "      <td>9.451312</td>\n",
       "      <td>11.085951</td>\n",
       "      <td>0.44</td>\n",
       "      <td>3.5</td>\n",
       "      <td>5.63</td>\n",
       "      <td>9.95</td>\n",
       "      <td>160.00</td>\n",
       "    </tr>\n",
       "  </tbody>\n",
       "</table>\n",
       "</div>"
      ],
      "text/plain": [
       "                    count          mean           std     min      25%  \\\n",
       "Kilometers_Driven  6008.0  58750.326232  91340.023790  171.00  34000.0   \n",
       "Mileage            6008.0     18.146881      4.572386    0.00     15.2   \n",
       "Engine             6008.0   1618.277630    594.666143   72.00   1198.0   \n",
       "Power              6008.0    112.723612     52.694872   34.20     78.0   \n",
       "Seats              6008.0      5.277963      0.800554    2.00      5.0   \n",
       "Price              6008.0      9.451312     11.085951    0.44      3.5   \n",
       "\n",
       "                        50%       75%         max  \n",
       "Kilometers_Driven  53000.50  73000.00  6500000.00  \n",
       "Mileage               18.16     21.10       33.54  \n",
       "Engine              1493.00   1968.00     5461.00  \n",
       "Power                 97.70    138.03      550.00  \n",
       "Seats                  5.00      5.00       10.00  \n",
       "Price                  5.63      9.95      160.00  "
      ]
     },
     "execution_count": 37,
     "metadata": {},
     "output_type": "execute_result"
    }
   ],
   "source": [
    "df.describe().T #statistical measurement of the numeric features\n",
    "# Kilometers_Driven and Engine features have too much standard deviation, must be scaled."
   ]
  },
  {
   "cell_type": "markdown",
   "metadata": {
    "id": "FkB_erWiUHAK"
   },
   "source": [
    "## Exploratory Data Analysis - Data Visualization\n",
    "* 2014,2015,2016,2013 and 2017 are the years that have most samples in the given dataset.\n",
    "* The cars that used Diesel and Petrol are close to each other but also there are a few samples that uses CNG,LPG or Electric.\n",
    "* Mumbai, Hyderabad and Kochi are the first three cities that have the majority of the samples from.\n",
    "* Manual cars are about 3 times more than Automatic ones.\n",
    "* Most of the cars are first hand.\n",
    "* MARUTI,HYUNDAI and HONDA are the most popular three cars according to the given dataset."
   ]
  },
  {
   "cell_type": "markdown",
   "metadata": {
    "id": "9VKrzwLYUHAK"
   },
   "source": [
    "### Categorical Variable Analysis"
   ]
  },
  {
   "cell_type": "code",
   "execution_count": 38,
   "metadata": {
    "colab": {
     "base_uri": "https://localhost:8080/",
     "height": 1000
    },
    "id": "Eahod2H1UHAK",
    "outputId": "2978b228-2602-4f34-f246-6659a984b1e5",
    "scrolled": false
   },
   "outputs": [
    {
     "data": {
      "image/png": "[encoded data removed]",
      "text/plain": [
       "<Figure size 432x288 with 1 Axes>"
      ]
     },
     "metadata": {},
     "output_type": "display_data"
    },
    {
     "name": "stdout",
     "output_type": "stream",
     "text": [
      "2014              794\n",
      "2015              744\n",
      "2016              741\n",
      "2013              649\n",
      "2017              585\n",
      "2012              579\n",
      "2011              465\n",
      "2010              342\n",
      "2018              297\n",
      "2009              198\n",
      "2008              173\n",
      "2007              125\n",
      "2019              102\n",
      "2006               77\n",
      "2005               57\n",
      "Less than 2004     49\n",
      "2004               31\n",
      "Name: Year, dtype: int64\n"
     ]
    },
    {
     "data": {
      "image/png": "[encoded data removed]",
      "text/plain": [
       "<Figure size 432x288 with 1 Axes>"
      ]
     },
     "metadata": {},
     "output_type": "display_data"
    },
    {
     "name": "stdout",
     "output_type": "stream",
     "text": [
      "Diesel    3197\n",
      "Petrol    2743\n",
      "Other       68\n",
      "Name: Fuel_Type, dtype: int64\n"
     ]
    },
    {
     "data": {
      "image/png": "[encoded data removed]",
      "text/plain": [
       "<Figure size 432x288 with 1 Axes>"
      ]
     },
     "metadata": {},
     "output_type": "display_data"
    },
    {
     "name": "stdout",
     "output_type": "stream",
     "text": [
      "Mumbai        790\n",
      "Hyderabad     740\n",
      "Kochi         651\n",
      "Coimbatore    635\n",
      "Pune          621\n",
      "Delhi         553\n",
      "Kolkata       533\n",
      "Chennai       492\n",
      "Jaipur        411\n",
      "Bangalore     358\n",
      "Ahmedabad     224\n",
      "Name: Location, dtype: int64\n"
     ]
    },
    {
     "data": {
      "image/png": "[encoded data removed]",
      "text/plain": [
       "<Figure size 432x288 with 1 Axes>"
      ]
     },
     "metadata": {},
     "output_type": "display_data"
    },
    {
     "name": "stdout",
     "output_type": "stream",
     "text": [
      "Manual       4293\n",
      "Automatic    1715\n",
      "Name: Transmission, dtype: int64\n"
     ]
    },
    {
     "data": {
      "image/png": "[encoded data removed]",
      "text/plain": [
       "<Figure size 432x288 with 1 Axes>"
      ]
     },
     "metadata": {},
     "output_type": "display_data"
    },
    {
     "name": "stdout",
     "output_type": "stream",
     "text": [
      "First     4921\n",
      "Second     967\n",
      "Other      120\n",
      "Name: Owner_Type, dtype: int64\n"
     ]
    },
    {
     "data": {
      "image/png": "[encoded data removed]",
      "text/plain": [
       "<Figure size 432x288 with 1 Axes>"
      ]
     },
     "metadata": {},
     "output_type": "display_data"
    },
    {
     "name": "stdout",
     "output_type": "stream",
     "text": [
      "MARUTI           1211\n",
      "HYUNDAI          1107\n",
      "HONDA             608\n",
      "TOYOTA            411\n",
      "MERCEDES-BENZ     318\n",
      "VOLKSWAGEN        315\n",
      "FORD              300\n",
      "MAHINDRA          272\n",
      "BMW               267\n",
      "AUDI              235\n",
      "TATA              186\n",
      "SKODA             173\n",
      "RENAULT           145\n",
      "CHEVROLET         121\n",
      "NISSAN             91\n",
      "LAND               60\n",
      "JAGUAR             40\n",
      "FIAT               28\n",
      "MITSUBISHI         27\n",
      "MINI               26\n",
      "Name: Brand, dtype: int64\n"
     ]
    }
   ],
   "source": [
    "cat_variables = [\"Year\",\"Fuel_Type\",\"Location\",\"Transmission\",\"Owner_Type\",\"Brand\"]\n",
    "for i in cat_variables:\n",
    "    sns.countplot(data=df,x=i,order= df[i].value_counts().iloc[0:20].index)\n",
    "    plt.xticks(rotation=90)\n",
    "    plt.show();\n",
    "    print(df[i].value_counts()[0:20])"
   ]
  },
  {
   "cell_type": "markdown",
   "metadata": {
    "id": "O14YOPe-UHAL"
   },
   "source": [
    "### Discrete Variable Analysis\n",
    "* Some of the features are highly correlated with each other such as Engine-Power, Price-Engine or Price-Power.\n",
    "* Correlation filter applying would be great to deal with this issue.\n",
    "* As expected, when Power increases, Price increases (0.77 positively correlated)\n",
    "* When Engine increases, Price increases as well (0.65 positively correlated)\n",
    "* When Mileage increases, price decreases (0.30 negatively correlated)"
   ]
  },
  {
   "cell_type": "code",
   "execution_count": 39,
   "metadata": {
    "colab": {
     "base_uri": "https://localhost:8080/",
     "height": 494
    },
    "id": "9X9XB6imUHAL",
    "outputId": "b96b2651-3169-42f1-f22c-99648cd33db7"
   },
   "outputs": [
    {
     "data": {
      "image/png": "[encoded data removed]",
      "text/plain": [
       "<Figure size 864x576 with 2 Axes>"
      ]
     },
     "metadata": {},
     "output_type": "display_data"
    }
   ],
   "source": [
    "numeric_cols = ['Kilometers_Driven',\"Mileage\",\"Engine\",\"Power\",'Seats']\n",
    "corr_mat = df[numeric_cols].corr()\n",
    "plt.subplots(figsize=(12,8))\n",
    "sns.heatmap(corr_mat, annot=True, square=True,cmap='RdYlGn');"
   ]
  },
  {
   "cell_type": "markdown",
   "metadata": {
    "id": "Y1DZ5CBqUHAM"
   },
   "source": [
    "### Additional Visual Graphs"
   ]
  },
  {
   "cell_type": "code",
   "execution_count": 40,
   "metadata": {
    "colab": {
     "base_uri": "https://localhost:8080/",
     "height": 301
    },
    "id": "imG01XYNUHAM",
    "outputId": "e57fb116-df2f-46cd-e457-d8de3daa4eec"
   },
   "outputs": [
    {
     "data": {
      "image/png": "[encoded data removed]",
      "text/plain": [
       "<Figure size 432x288 with 1 Axes>"
      ]
     },
     "metadata": {},
     "output_type": "display_data"
    }
   ],
   "source": [
    "sns.distplot(df['Price'] , fit=norm);\n",
    "plt.ylabel('Frequency')\n",
    "plt.title('Price Distribution')\n",
    "plt.show();"
   ]
  },
  {
   "cell_type": "markdown",
   "metadata": {
    "id": "Sw_UfFb7UHAN"
   },
   "source": [
    "* Price distribution graph is right-skewed, not normally distributed. Most of the prices between 0-25"
   ]
  },
  {
   "cell_type": "code",
   "execution_count": 41,
   "metadata": {
    "colab": {
     "base_uri": "https://localhost:8080/",
     "height": 542
    },
    "id": "M8C7iIimUHAN",
    "outputId": "8ebd091f-d4fa-4abb-f887-3d42f908a9c9"
   },
   "outputs": [
    {
     "ename": "NameError",
     "evalue": "name 'go' is not defined",
     "output_type": "error",
     "traceback": [
      "\u001b[1;31m---------------------------------------------------------------------------\u001b[0m",
      "\u001b[1;31mNameError\u001b[0m                                 Traceback (most recent call last)",
      "\u001b[1;32m<ipython-input-41-2a8a9e70ad67>\u001b[0m in \u001b[0;36m<module>\u001b[1;34m\u001b[0m\n\u001b[0;32m      4\u001b[0m \u001b[0my3\u001b[0m \u001b[1;33m=\u001b[0m \u001b[0mdf\u001b[0m\u001b[1;33m[\u001b[0m\u001b[1;34m'Power'\u001b[0m\u001b[1;33m]\u001b[0m\u001b[1;33m\u001b[0m\u001b[1;33m\u001b[0m\u001b[0m\n\u001b[0;32m      5\u001b[0m \u001b[0my4\u001b[0m\u001b[1;33m=\u001b[0m \u001b[0mdf\u001b[0m\u001b[1;33m[\u001b[0m\u001b[1;34m'Price'\u001b[0m\u001b[1;33m]\u001b[0m\u001b[1;33m\u001b[0m\u001b[1;33m\u001b[0m\u001b[0m\n\u001b[1;32m----> 6\u001b[1;33m \u001b[0mfig\u001b[0m \u001b[1;33m=\u001b[0m \u001b[0mgo\u001b[0m\u001b[1;33m.\u001b[0m\u001b[0mFigure\u001b[0m\u001b[1;33m(\u001b[0m\u001b[1;33m)\u001b[0m\u001b[1;33m\u001b[0m\u001b[1;33m\u001b[0m\u001b[0m\n\u001b[0m\u001b[0;32m      7\u001b[0m \u001b[0mfig\u001b[0m\u001b[1;33m.\u001b[0m\u001b[0madd_trace\u001b[0m\u001b[1;33m(\u001b[0m\u001b[0mgo\u001b[0m\u001b[1;33m.\u001b[0m\u001b[0mBox\u001b[0m\u001b[1;33m(\u001b[0m\u001b[0my\u001b[0m\u001b[1;33m=\u001b[0m\u001b[0my0\u001b[0m\u001b[1;33m,\u001b[0m \u001b[0mquartilemethod\u001b[0m\u001b[1;33m=\u001b[0m\u001b[1;34m\"linear\"\u001b[0m\u001b[1;33m,\u001b[0m \u001b[0mname\u001b[0m\u001b[1;33m=\u001b[0m\u001b[1;34m\"Kilometers_Driven\"\u001b[0m\u001b[1;33m)\u001b[0m\u001b[1;33m)\u001b[0m\u001b[1;33m\u001b[0m\u001b[1;33m\u001b[0m\u001b[0m\n\u001b[0;32m      8\u001b[0m \u001b[0mfig\u001b[0m\u001b[1;33m.\u001b[0m\u001b[0madd_trace\u001b[0m\u001b[1;33m(\u001b[0m\u001b[0mgo\u001b[0m\u001b[1;33m.\u001b[0m\u001b[0mBox\u001b[0m\u001b[1;33m(\u001b[0m\u001b[0my\u001b[0m\u001b[1;33m=\u001b[0m\u001b[0my1\u001b[0m\u001b[1;33m,\u001b[0m \u001b[0mquartilemethod\u001b[0m\u001b[1;33m=\u001b[0m\u001b[1;34m\"linear\"\u001b[0m\u001b[1;33m,\u001b[0m \u001b[0mname\u001b[0m\u001b[1;33m=\u001b[0m\u001b[1;34m\"Mileage\"\u001b[0m\u001b[1;33m)\u001b[0m\u001b[1;33m)\u001b[0m\u001b[1;33m\u001b[0m\u001b[1;33m\u001b[0m\u001b[0m\n",
      "\u001b[1;31mNameError\u001b[0m: name 'go' is not defined"
     ]
    }
   ],
   "source": [
    "y0 = df['Kilometers_Driven']\n",
    "y1 = df['Mileage']\n",
    "y2 = df['Engine']\n",
    "y3 = df['Power']\n",
    "y4= df['Price']\n",
    "fig = go.Figure()\n",
    "fig.add_trace(go.Box(y=y0, quartilemethod=\"linear\", name=\"Kilometers_Driven\"))\n",
    "fig.add_trace(go.Box(y=y1, quartilemethod=\"linear\", name=\"Mileage\"))\n",
    "fig.add_trace(go.Box(y=y2, quartilemethod=\"linear\", name=\"Engine\"))\n",
    "fig.add_trace(go.Box(y=y3, quartilemethod=\"linear\", name=\"Power\"))\n",
    "fig.add_trace(go.Box(y=y4, quartilemethod=\"linear\", name=\"Price\"))\n",
    "\n",
    "fig.update_layout(title_text=\"Box Plot for Numeric Features using Plotly\")\n",
    "fig.show()"
   ]
  },
  {
   "cell_type": "code",
   "execution_count": 42,
   "metadata": {
    "colab": {
     "base_uri": "https://localhost:8080/",
     "height": 365
    },
    "id": "jO-MtY6fUHAO",
    "outputId": "1f03fa51-0c45-4323-8c6c-90f7b25a817b"
   },
   "outputs": [
    {
     "data": {
      "image/png": "[encoded data removed]",
      "text/plain": [
       "<Figure size 360x360 with 1 Axes>"
      ]
     },
     "metadata": {},
     "output_type": "display_data"
    }
   ],
   "source": [
    "sns.catplot(x='Transmission',y='Price',data=df,jitter=0.1);"
   ]
  },
  {
   "cell_type": "markdown",
   "metadata": {
    "id": "FKtY-ceuUHAO"
   },
   "source": [
    "* Automatic cars are more expensive than manual ones."
   ]
  },
  {
   "cell_type": "code",
   "execution_count": 43,
   "metadata": {
    "colab": {
     "base_uri": "https://localhost:8080/",
     "height": 364
    },
    "id": "-HqUR1gtUHAO",
    "outputId": "c6d3a4d3-8246-4016-9e54-9316fb4d02ce"
   },
   "outputs": [
    {
     "data": {
      "image/png": "[encoded data removed]",
      "text/plain": [
       "<Figure size 800x320 with 1 Axes>"
      ]
     },
     "metadata": {},
     "output_type": "display_data"
    }
   ],
   "source": [
    "plt.figure(figsize=(10, 4), dpi=80)\n",
    "sns.countplot(data=df, x=\"Location\",hue=\"Transmission\");\n",
    "plt.xticks(rotation=45);"
   ]
  },
  {
   "cell_type": "markdown",
   "metadata": {
    "id": "-s5BO9rfUHAP"
   },
   "source": [
    "* In all cities, there are much more manual cars than automatic ones. Mumbai has the highest level of automatic cars"
   ]
  },
  {
   "cell_type": "code",
   "execution_count": 44,
   "metadata": {
    "colab": {
     "base_uri": "https://localhost:8080/",
     "height": 421
    },
    "id": "jrQbKuaAUHAP",
    "outputId": "ff1b0e8e-6cb4-4bd1-c7f7-909fa7e27958"
   },
   "outputs": [
    {
     "data": {
      "image/png": "[encoded data removed]",
      "text/plain": [
       "<Figure size 504x720 with 1 Axes>"
      ]
     },
     "metadata": {},
     "output_type": "display_data"
    }
   ],
   "source": [
    "plt.figure(1, figsize=(7,10))\n",
    "df['Location'].value_counts().plot.pie(autopct=\"%1.1f%%\",cmap=\"tab20\")\n",
    "plt.show()"
   ]
  },
  {
   "cell_type": "markdown",
   "metadata": {
    "id": "yQA5H26uUHAP"
   },
   "source": [
    "* Mumbai, Hyderabad and Kochi covers about 35% samples in the dataset."
   ]
  },
  {
   "cell_type": "code",
   "execution_count": 45,
   "metadata": {
    "colab": {
     "base_uri": "https://localhost:8080/",
     "height": 525
    },
    "id": "X1fx6pHHUHAQ",
    "outputId": "51e06b04-5a19-4c0c-8d76-5bf54d3dc59d"
   },
   "outputs": [
    {
     "data": {
      "image/png": "[encoded data removed]",
      "text/plain": [
       "<Figure size 936x504 with 1 Axes>"
      ]
     },
     "metadata": {},
     "output_type": "display_data"
    }
   ],
   "source": [
    "plt.figure(figsize=(13,7))\n",
    "sns.barplot(data=df,x='Brand',y='Price')\n",
    "plt.xticks(rotation=60);"
   ]
  },
  {
   "cell_type": "markdown",
   "metadata": {
    "id": "KLG_Ekn8UHAQ"
   },
   "source": [
    "* Porsche, Jaguar, Land, Audi and Mini are the top five most expensive car brands in the dataset."
   ]
  },
  {
   "cell_type": "code",
   "execution_count": 46,
   "metadata": {
    "colab": {
     "base_uri": "https://localhost:8080/",
     "height": 409
    },
    "id": "BPXeY85kUHAQ",
    "outputId": "1884ecf4-016b-49e4-dd73-c43419aeece0"
   },
   "outputs": [
    {
     "data": {
      "image/png": "[encoded data removed]",
      "text/plain": [
       "<Figure size 864x432 with 1 Axes>"
      ]
     },
     "metadata": {},
     "output_type": "display_data"
    }
   ],
   "source": [
    "plt.figure(figsize=(12,6))\n",
    "sns.barplot(data=df,y=\"Price\",x='Location',hue='Fuel_Type')\n",
    "plt.xlabel(\"Location\",size=10,c=\"black\")\n",
    "plt.ylabel(\"Price\",size=10,c=\"black\")\n",
    "plt.title(\"Effect of fuel type on car price in terms of location\",size=15,c=\"black\")\n",
    "plt.show()"
   ]
  },
  {
   "cell_type": "markdown",
   "metadata": {
    "id": "LRC0EwFXUHAR"
   },
   "source": [
    "* The figure above shows that price of diesel car is more than petrol according to the location.\n",
    "* Diesel cars are always more expensive than the other types of fuels in every city of India."
   ]
  },
  {
   "cell_type": "markdown",
   "metadata": {
    "id": "A_3H25WSUHAR"
   },
   "source": [
    "### Dealing with Outliers\n",
    "* In order to deal with the outliers, z-score technique by using threshold as 3 sigma is used and about 500 rows are marked as outliers and dropped from the original dataset."
   ]
  },
  {
   "cell_type": "code",
   "execution_count": 47,
   "metadata": {
    "colab": {
     "base_uri": "https://localhost:8080/",
     "height": 268
    },
    "id": "GzoKxYxNUHAR",
    "outputId": "de0e4b95-1cf7-4620-b8a2-6e3e727f2fc3"
   },
   "outputs": [
    {
     "data": {
      "text/html": [
       "<div>\n",
       "<style scoped>\n",
       "    .dataframe tbody tr th:only-of-type {\n",
       "        vertical-align: middle;\n",
       "    }\n",
       "\n",
       "    .dataframe tbody tr th {\n",
       "        vertical-align: top;\n",
       "    }\n",
       "\n",
       "    .dataframe thead th {\n",
       "        text-align: right;\n",
       "    }\n",
       "</style>\n",
       "<table border=\"1\" class=\"dataframe\">\n",
       "  <thead>\n",
       "    <tr style=\"text-align: right;\">\n",
       "      <th></th>\n",
       "      <th>Location</th>\n",
       "      <th>Year</th>\n",
       "      <th>Kilometers_Driven</th>\n",
       "      <th>Fuel_Type</th>\n",
       "      <th>Transmission</th>\n",
       "      <th>Owner_Type</th>\n",
       "      <th>Mileage</th>\n",
       "      <th>Engine</th>\n",
       "      <th>Power</th>\n",
       "      <th>Seats</th>\n",
       "      <th>Price</th>\n",
       "      <th>Brand</th>\n",
       "    </tr>\n",
       "  </thead>\n",
       "  <tbody>\n",
       "    <tr>\n",
       "      <th>0</th>\n",
       "      <td>Mumbai</td>\n",
       "      <td>2010</td>\n",
       "      <td>72000</td>\n",
       "      <td>Other</td>\n",
       "      <td>Manual</td>\n",
       "      <td>First</td>\n",
       "      <td>26.60</td>\n",
       "      <td>998.0</td>\n",
       "      <td>58.16</td>\n",
       "      <td>5.0</td>\n",
       "      <td>1.75</td>\n",
       "      <td>MARUTI</td>\n",
       "    </tr>\n",
       "    <tr>\n",
       "      <th>1</th>\n",
       "      <td>Pune</td>\n",
       "      <td>2015</td>\n",
       "      <td>41000</td>\n",
       "      <td>Diesel</td>\n",
       "      <td>Manual</td>\n",
       "      <td>First</td>\n",
       "      <td>19.67</td>\n",
       "      <td>1582.0</td>\n",
       "      <td>126.20</td>\n",
       "      <td>5.0</td>\n",
       "      <td>12.50</td>\n",
       "      <td>HYUNDAI</td>\n",
       "    </tr>\n",
       "    <tr>\n",
       "      <th>2</th>\n",
       "      <td>Chennai</td>\n",
       "      <td>2011</td>\n",
       "      <td>46000</td>\n",
       "      <td>Petrol</td>\n",
       "      <td>Manual</td>\n",
       "      <td>First</td>\n",
       "      <td>18.20</td>\n",
       "      <td>1199.0</td>\n",
       "      <td>88.70</td>\n",
       "      <td>5.0</td>\n",
       "      <td>4.50</td>\n",
       "      <td>HONDA</td>\n",
       "    </tr>\n",
       "    <tr>\n",
       "      <th>3</th>\n",
       "      <td>Chennai</td>\n",
       "      <td>2012</td>\n",
       "      <td>87000</td>\n",
       "      <td>Diesel</td>\n",
       "      <td>Manual</td>\n",
       "      <td>First</td>\n",
       "      <td>20.77</td>\n",
       "      <td>1248.0</td>\n",
       "      <td>88.76</td>\n",
       "      <td>7.0</td>\n",
       "      <td>6.00</td>\n",
       "      <td>MARUTI</td>\n",
       "    </tr>\n",
       "    <tr>\n",
       "      <th>4</th>\n",
       "      <td>Coimbatore</td>\n",
       "      <td>2013</td>\n",
       "      <td>40670</td>\n",
       "      <td>Diesel</td>\n",
       "      <td>Automatic</td>\n",
       "      <td>Second</td>\n",
       "      <td>15.20</td>\n",
       "      <td>1968.0</td>\n",
       "      <td>140.80</td>\n",
       "      <td>5.0</td>\n",
       "      <td>17.74</td>\n",
       "      <td>AUDI</td>\n",
       "    </tr>\n",
       "  </tbody>\n",
       "</table>\n",
       "</div>"
      ],
      "text/plain": [
       "     Location  Year  Kilometers_Driven Fuel_Type Transmission Owner_Type  \\\n",
       "0      Mumbai  2010              72000     Other       Manual      First   \n",
       "1        Pune  2015              41000    Diesel       Manual      First   \n",
       "2     Chennai  2011              46000    Petrol       Manual      First   \n",
       "3     Chennai  2012              87000    Diesel       Manual      First   \n",
       "4  Coimbatore  2013              40670    Diesel    Automatic     Second   \n",
       "\n",
       "   Mileage  Engine   Power  Seats  Price    Brand  \n",
       "0    26.60   998.0   58.16    5.0   1.75   MARUTI  \n",
       "1    19.67  1582.0  126.20    5.0  12.50  HYUNDAI  \n",
       "2    18.20  1199.0   88.70    5.0   4.50    HONDA  \n",
       "3    20.77  1248.0   88.76    7.0   6.00   MARUTI  \n",
       "4    15.20  1968.0  140.80    5.0  17.74     AUDI  "
      ]
     },
     "execution_count": 47,
     "metadata": {},
     "output_type": "execute_result"
    }
   ],
   "source": [
    "df.head()"
   ]
  },
  {
   "cell_type": "code",
   "execution_count": 48,
   "metadata": {
    "colab": {
     "base_uri": "https://localhost:8080/"
    },
    "id": "YJUoKBQKUHAS",
    "outputId": "7f17648f-8ff8-40d7-d21d-3f75839c2fc8"
   },
   "outputs": [
    {
     "name": "stdout",
     "output_type": "stream",
     "text": [
      "Before dropping numerical outliers, length of the dataframe is:  6008\n",
      "After dropping numerical outliers, length of the dataframe is:  5590\n"
     ]
    }
   ],
   "source": [
    "print(\"Before dropping numerical outliers, length of the dataframe is: \",len(df))\n",
    "def drop_numerical_outliers(df, z_thresh=3):\n",
    "    constrains = df.select_dtypes(include=[np.number]).apply(lambda x: np.abs(stats.zscore(x)) < z_thresh) \\\n",
    "        .all(axis=1)\n",
    "    df.drop(df.index[~constrains], inplace=True)\n",
    "    \n",
    "drop_numerical_outliers(df)\n",
    "print(\"After dropping numerical outliers, length of the dataframe is: \",len(df))"
   ]
  },
  {
   "cell_type": "markdown",
   "metadata": {
    "id": "msXvtmyFUHAS"
   },
   "source": [
    "### Scaling the Numerical Features\n",
    "* MinMaxScaler is used to put all those numeric features into same range to reduce the impacts of outliers and standard deviation."
   ]
  },
  {
   "cell_type": "code",
   "execution_count": 49,
   "metadata": {
    "colab": {
     "base_uri": "https://localhost:8080/",
     "height": 268
    },
    "id": "TcwFb-WpUHAS",
    "outputId": "2622a6dd-2f53-434c-fd45-d93582747fe4"
   },
   "outputs": [
    {
     "data": {
      "text/html": [
       "<div>\n",
       "<style scoped>\n",
       "    .dataframe tbody tr th:only-of-type {\n",
       "        vertical-align: middle;\n",
       "    }\n",
       "\n",
       "    .dataframe tbody tr th {\n",
       "        vertical-align: top;\n",
       "    }\n",
       "\n",
       "    .dataframe thead th {\n",
       "        text-align: right;\n",
       "    }\n",
       "</style>\n",
       "<table border=\"1\" class=\"dataframe\">\n",
       "  <thead>\n",
       "    <tr style=\"text-align: right;\">\n",
       "      <th></th>\n",
       "      <th>Location</th>\n",
       "      <th>Year</th>\n",
       "      <th>Kilometers_Driven</th>\n",
       "      <th>Fuel_Type</th>\n",
       "      <th>Transmission</th>\n",
       "      <th>Owner_Type</th>\n",
       "      <th>Mileage</th>\n",
       "      <th>Engine</th>\n",
       "      <th>Power</th>\n",
       "      <th>Seats</th>\n",
       "      <th>Price</th>\n",
       "      <th>Brand</th>\n",
       "    </tr>\n",
       "  </thead>\n",
       "  <tbody>\n",
       "    <tr>\n",
       "      <th>0</th>\n",
       "      <td>Mumbai</td>\n",
       "      <td>2010</td>\n",
       "      <td>72000</td>\n",
       "      <td>Other</td>\n",
       "      <td>Manual</td>\n",
       "      <td>First</td>\n",
       "      <td>26.60</td>\n",
       "      <td>998.0</td>\n",
       "      <td>58.16</td>\n",
       "      <td>5.0</td>\n",
       "      <td>1.75</td>\n",
       "      <td>MARUTI</td>\n",
       "    </tr>\n",
       "    <tr>\n",
       "      <th>1</th>\n",
       "      <td>Pune</td>\n",
       "      <td>2015</td>\n",
       "      <td>41000</td>\n",
       "      <td>Diesel</td>\n",
       "      <td>Manual</td>\n",
       "      <td>First</td>\n",
       "      <td>19.67</td>\n",
       "      <td>1582.0</td>\n",
       "      <td>126.20</td>\n",
       "      <td>5.0</td>\n",
       "      <td>12.50</td>\n",
       "      <td>HYUNDAI</td>\n",
       "    </tr>\n",
       "    <tr>\n",
       "      <th>2</th>\n",
       "      <td>Chennai</td>\n",
       "      <td>2011</td>\n",
       "      <td>46000</td>\n",
       "      <td>Petrol</td>\n",
       "      <td>Manual</td>\n",
       "      <td>First</td>\n",
       "      <td>18.20</td>\n",
       "      <td>1199.0</td>\n",
       "      <td>88.70</td>\n",
       "      <td>5.0</td>\n",
       "      <td>4.50</td>\n",
       "      <td>HONDA</td>\n",
       "    </tr>\n",
       "    <tr>\n",
       "      <th>3</th>\n",
       "      <td>Chennai</td>\n",
       "      <td>2012</td>\n",
       "      <td>87000</td>\n",
       "      <td>Diesel</td>\n",
       "      <td>Manual</td>\n",
       "      <td>First</td>\n",
       "      <td>20.77</td>\n",
       "      <td>1248.0</td>\n",
       "      <td>88.76</td>\n",
       "      <td>7.0</td>\n",
       "      <td>6.00</td>\n",
       "      <td>MARUTI</td>\n",
       "    </tr>\n",
       "    <tr>\n",
       "      <th>4</th>\n",
       "      <td>Coimbatore</td>\n",
       "      <td>2013</td>\n",
       "      <td>40670</td>\n",
       "      <td>Diesel</td>\n",
       "      <td>Automatic</td>\n",
       "      <td>Second</td>\n",
       "      <td>15.20</td>\n",
       "      <td>1968.0</td>\n",
       "      <td>140.80</td>\n",
       "      <td>5.0</td>\n",
       "      <td>17.74</td>\n",
       "      <td>AUDI</td>\n",
       "    </tr>\n",
       "  </tbody>\n",
       "</table>\n",
       "</div>"
      ],
      "text/plain": [
       "     Location  Year  Kilometers_Driven Fuel_Type Transmission Owner_Type  \\\n",
       "0      Mumbai  2010              72000     Other       Manual      First   \n",
       "1        Pune  2015              41000    Diesel       Manual      First   \n",
       "2     Chennai  2011              46000    Petrol       Manual      First   \n",
       "3     Chennai  2012              87000    Diesel       Manual      First   \n",
       "4  Coimbatore  2013              40670    Diesel    Automatic     Second   \n",
       "\n",
       "   Mileage  Engine   Power  Seats  Price    Brand  \n",
       "0    26.60   998.0   58.16    5.0   1.75   MARUTI  \n",
       "1    19.67  1582.0  126.20    5.0  12.50  HYUNDAI  \n",
       "2    18.20  1199.0   88.70    5.0   4.50    HONDA  \n",
       "3    20.77  1248.0   88.76    7.0   6.00   MARUTI  \n",
       "4    15.20  1968.0  140.80    5.0  17.74     AUDI  "
      ]
     },
     "execution_count": 49,
     "metadata": {},
     "output_type": "execute_result"
    }
   ],
   "source": [
    "df.head()"
   ]
  },
  {
   "cell_type": "code",
   "execution_count": 50,
   "metadata": {
    "colab": {
     "base_uri": "https://localhost:8080/",
     "height": 268
    },
    "id": "mbfjLds6UHAT",
    "outputId": "0aeddbd3-ea60-468f-e623-20ab7b2cdca1"
   },
   "outputs": [
    {
     "data": {
      "text/html": [
       "<div>\n",
       "<style scoped>\n",
       "    .dataframe tbody tr th:only-of-type {\n",
       "        vertical-align: middle;\n",
       "    }\n",
       "\n",
       "    .dataframe tbody tr th {\n",
       "        vertical-align: top;\n",
       "    }\n",
       "\n",
       "    .dataframe thead th {\n",
       "        text-align: right;\n",
       "    }\n",
       "</style>\n",
       "<table border=\"1\" class=\"dataframe\">\n",
       "  <thead>\n",
       "    <tr style=\"text-align: right;\">\n",
       "      <th></th>\n",
       "      <th>Location</th>\n",
       "      <th>Year</th>\n",
       "      <th>Kilometers_Driven</th>\n",
       "      <th>Fuel_Type</th>\n",
       "      <th>Transmission</th>\n",
       "      <th>Owner_Type</th>\n",
       "      <th>Mileage</th>\n",
       "      <th>Engine</th>\n",
       "      <th>Power</th>\n",
       "      <th>Seats</th>\n",
       "      <th>Price</th>\n",
       "      <th>Brand</th>\n",
       "    </tr>\n",
       "  </thead>\n",
       "  <tbody>\n",
       "    <tr>\n",
       "      <th>0</th>\n",
       "      <td>Mumbai</td>\n",
       "      <td>2010</td>\n",
       "      <td>0.239567</td>\n",
       "      <td>Other</td>\n",
       "      <td>Manual</td>\n",
       "      <td>First</td>\n",
       "      <td>0.779992</td>\n",
       "      <td>0.296036</td>\n",
       "      <td>0.103813</td>\n",
       "      <td>0.333333</td>\n",
       "      <td>1.75</td>\n",
       "      <td>MARUTI</td>\n",
       "    </tr>\n",
       "    <tr>\n",
       "      <th>1</th>\n",
       "      <td>Pune</td>\n",
       "      <td>2015</td>\n",
       "      <td>0.136174</td>\n",
       "      <td>Diesel</td>\n",
       "      <td>Manual</td>\n",
       "      <td>First</td>\n",
       "      <td>0.486223</td>\n",
       "      <td>0.482737</td>\n",
       "      <td>0.398614</td>\n",
       "      <td>0.333333</td>\n",
       "      <td>12.50</td>\n",
       "      <td>HYUNDAI</td>\n",
       "    </tr>\n",
       "    <tr>\n",
       "      <th>2</th>\n",
       "      <td>Chennai</td>\n",
       "      <td>2011</td>\n",
       "      <td>0.152850</td>\n",
       "      <td>Petrol</td>\n",
       "      <td>Manual</td>\n",
       "      <td>First</td>\n",
       "      <td>0.423908</td>\n",
       "      <td>0.360294</td>\n",
       "      <td>0.236135</td>\n",
       "      <td>0.333333</td>\n",
       "      <td>4.50</td>\n",
       "      <td>HONDA</td>\n",
       "    </tr>\n",
       "    <tr>\n",
       "      <th>3</th>\n",
       "      <td>Chennai</td>\n",
       "      <td>2012</td>\n",
       "      <td>0.289595</td>\n",
       "      <td>Diesel</td>\n",
       "      <td>Manual</td>\n",
       "      <td>First</td>\n",
       "      <td>0.532853</td>\n",
       "      <td>0.375959</td>\n",
       "      <td>0.236395</td>\n",
       "      <td>1.000000</td>\n",
       "      <td>6.00</td>\n",
       "      <td>MARUTI</td>\n",
       "    </tr>\n",
       "    <tr>\n",
       "      <th>4</th>\n",
       "      <td>Coimbatore</td>\n",
       "      <td>2013</td>\n",
       "      <td>0.135074</td>\n",
       "      <td>Diesel</td>\n",
       "      <td>Automatic</td>\n",
       "      <td>Second</td>\n",
       "      <td>0.296736</td>\n",
       "      <td>0.606138</td>\n",
       "      <td>0.461872</td>\n",
       "      <td>0.333333</td>\n",
       "      <td>17.74</td>\n",
       "      <td>AUDI</td>\n",
       "    </tr>\n",
       "  </tbody>\n",
       "</table>\n",
       "</div>"
      ],
      "text/plain": [
       "     Location  Year  Kilometers_Driven Fuel_Type Transmission Owner_Type  \\\n",
       "0      Mumbai  2010           0.239567     Other       Manual      First   \n",
       "1        Pune  2015           0.136174    Diesel       Manual      First   \n",
       "2     Chennai  2011           0.152850    Petrol       Manual      First   \n",
       "3     Chennai  2012           0.289595    Diesel       Manual      First   \n",
       "4  Coimbatore  2013           0.135074    Diesel    Automatic     Second   \n",
       "\n",
       "    Mileage    Engine     Power     Seats  Price    Brand  \n",
       "0  0.779992  0.296036  0.103813  0.333333   1.75   MARUTI  \n",
       "1  0.486223  0.482737  0.398614  0.333333  12.50  HYUNDAI  \n",
       "2  0.423908  0.360294  0.236135  0.333333   4.50    HONDA  \n",
       "3  0.532853  0.375959  0.236395  1.000000   6.00   MARUTI  \n",
       "4  0.296736  0.606138  0.461872  0.333333  17.74     AUDI  "
      ]
     },
     "execution_count": 50,
     "metadata": {},
     "output_type": "execute_result"
    }
   ],
   "source": [
    "numeric_cols = ['Kilometers_Driven',\"Mileage\",\"Engine\",\"Power\",'Seats'] #Scaling numerical columns\n",
    "transformer = MinMaxScaler()\n",
    "\n",
    "def scaling(columns):\n",
    "    return transformer.fit_transform(df[columns].values.reshape(-1,1))\n",
    "\n",
    "for i in numeric_cols:\n",
    "    df[i] = scaling(i)\n",
    "df.head()"
   ]
  },
  {
   "cell_type": "markdown",
   "metadata": {
    "id": "81IliYlkUHAT"
   },
   "source": [
    "### One-Hot Encoding Technique for Categorical Features\n",
    "* Transforming categorical features into dummy variables as 0 and 1 to be able to use them in regression models."
   ]
  },
  {
   "cell_type": "code",
   "execution_count": 51,
   "metadata": {
    "colab": {
     "base_uri": "https://localhost:8080/",
     "height": 314
    },
    "id": "bErvuQFsUHAT",
    "outputId": "e4d6a7dc-29c9-4d27-a6a2-76a969069796"
   },
   "outputs": [
    {
     "data": {
      "text/html": [
       "<div>\n",
       "<style scoped>\n",
       "    .dataframe tbody tr th:only-of-type {\n",
       "        vertical-align: middle;\n",
       "    }\n",
       "\n",
       "    .dataframe tbody tr th {\n",
       "        vertical-align: top;\n",
       "    }\n",
       "\n",
       "    .dataframe thead th {\n",
       "        text-align: right;\n",
       "    }\n",
       "</style>\n",
       "<table border=\"1\" class=\"dataframe\">\n",
       "  <thead>\n",
       "    <tr style=\"text-align: right;\">\n",
       "      <th></th>\n",
       "      <th>Kilometers_Driven</th>\n",
       "      <th>Mileage</th>\n",
       "      <th>Engine</th>\n",
       "      <th>Power</th>\n",
       "      <th>Seats</th>\n",
       "      <th>Price</th>\n",
       "      <th>Location_is_Ahmedabad</th>\n",
       "      <th>Location_is_Bangalore</th>\n",
       "      <th>Location_is_Chennai</th>\n",
       "      <th>Location_is_Coimbatore</th>\n",
       "      <th>...</th>\n",
       "      <th>Year_is_2011</th>\n",
       "      <th>Year_is_2012</th>\n",
       "      <th>Year_is_2013</th>\n",
       "      <th>Year_is_2014</th>\n",
       "      <th>Year_is_2015</th>\n",
       "      <th>Year_is_2016</th>\n",
       "      <th>Year_is_2017</th>\n",
       "      <th>Year_is_2018</th>\n",
       "      <th>Year_is_2019</th>\n",
       "      <th>Year_is_Less than 2004</th>\n",
       "    </tr>\n",
       "  </thead>\n",
       "  <tbody>\n",
       "    <tr>\n",
       "      <th>0</th>\n",
       "      <td>0.239567</td>\n",
       "      <td>0.779992</td>\n",
       "      <td>0.296036</td>\n",
       "      <td>0.103813</td>\n",
       "      <td>0.333333</td>\n",
       "      <td>1.75</td>\n",
       "      <td>0</td>\n",
       "      <td>0</td>\n",
       "      <td>0</td>\n",
       "      <td>0</td>\n",
       "      <td>...</td>\n",
       "      <td>0</td>\n",
       "      <td>0</td>\n",
       "      <td>0</td>\n",
       "      <td>0</td>\n",
       "      <td>0</td>\n",
       "      <td>0</td>\n",
       "      <td>0</td>\n",
       "      <td>0</td>\n",
       "      <td>0</td>\n",
       "      <td>0</td>\n",
       "    </tr>\n",
       "    <tr>\n",
       "      <th>1</th>\n",
       "      <td>0.136174</td>\n",
       "      <td>0.486223</td>\n",
       "      <td>0.482737</td>\n",
       "      <td>0.398614</td>\n",
       "      <td>0.333333</td>\n",
       "      <td>12.50</td>\n",
       "      <td>0</td>\n",
       "      <td>0</td>\n",
       "      <td>0</td>\n",
       "      <td>0</td>\n",
       "      <td>...</td>\n",
       "      <td>0</td>\n",
       "      <td>0</td>\n",
       "      <td>0</td>\n",
       "      <td>0</td>\n",
       "      <td>1</td>\n",
       "      <td>0</td>\n",
       "      <td>0</td>\n",
       "      <td>0</td>\n",
       "      <td>0</td>\n",
       "      <td>0</td>\n",
       "    </tr>\n",
       "    <tr>\n",
       "      <th>2</th>\n",
       "      <td>0.152850</td>\n",
       "      <td>0.423908</td>\n",
       "      <td>0.360294</td>\n",
       "      <td>0.236135</td>\n",
       "      <td>0.333333</td>\n",
       "      <td>4.50</td>\n",
       "      <td>0</td>\n",
       "      <td>0</td>\n",
       "      <td>1</td>\n",
       "      <td>0</td>\n",
       "      <td>...</td>\n",
       "      <td>1</td>\n",
       "      <td>0</td>\n",
       "      <td>0</td>\n",
       "      <td>0</td>\n",
       "      <td>0</td>\n",
       "      <td>0</td>\n",
       "      <td>0</td>\n",
       "      <td>0</td>\n",
       "      <td>0</td>\n",
       "      <td>0</td>\n",
       "    </tr>\n",
       "    <tr>\n",
       "      <th>3</th>\n",
       "      <td>0.289595</td>\n",
       "      <td>0.532853</td>\n",
       "      <td>0.375959</td>\n",
       "      <td>0.236395</td>\n",
       "      <td>1.000000</td>\n",
       "      <td>6.00</td>\n",
       "      <td>0</td>\n",
       "      <td>0</td>\n",
       "      <td>1</td>\n",
       "      <td>0</td>\n",
       "      <td>...</td>\n",
       "      <td>0</td>\n",
       "      <td>1</td>\n",
       "      <td>0</td>\n",
       "      <td>0</td>\n",
       "      <td>0</td>\n",
       "      <td>0</td>\n",
       "      <td>0</td>\n",
       "      <td>0</td>\n",
       "      <td>0</td>\n",
       "      <td>0</td>\n",
       "    </tr>\n",
       "    <tr>\n",
       "      <th>4</th>\n",
       "      <td>0.135074</td>\n",
       "      <td>0.296736</td>\n",
       "      <td>0.606138</td>\n",
       "      <td>0.461872</td>\n",
       "      <td>0.333333</td>\n",
       "      <td>17.74</td>\n",
       "      <td>0</td>\n",
       "      <td>0</td>\n",
       "      <td>0</td>\n",
       "      <td>1</td>\n",
       "      <td>...</td>\n",
       "      <td>0</td>\n",
       "      <td>0</td>\n",
       "      <td>1</td>\n",
       "      <td>0</td>\n",
       "      <td>0</td>\n",
       "      <td>0</td>\n",
       "      <td>0</td>\n",
       "      <td>0</td>\n",
       "      <td>0</td>\n",
       "      <td>0</td>\n",
       "    </tr>\n",
       "  </tbody>\n",
       "</table>\n",
       "<p>5 rows × 65 columns</p>\n",
       "</div>"
      ],
      "text/plain": [
       "   Kilometers_Driven   Mileage    Engine     Power     Seats  Price  \\\n",
       "0           0.239567  0.779992  0.296036  0.103813  0.333333   1.75   \n",
       "1           0.136174  0.486223  0.482737  0.398614  0.333333  12.50   \n",
       "2           0.152850  0.423908  0.360294  0.236135  0.333333   4.50   \n",
       "3           0.289595  0.532853  0.375959  0.236395  1.000000   6.00   \n",
       "4           0.135074  0.296736  0.606138  0.461872  0.333333  17.74   \n",
       "\n",
       "   Location_is_Ahmedabad  Location_is_Bangalore  Location_is_Chennai  \\\n",
       "0                      0                      0                    0   \n",
       "1                      0                      0                    0   \n",
       "2                      0                      0                    1   \n",
       "3                      0                      0                    1   \n",
       "4                      0                      0                    0   \n",
       "\n",
       "   Location_is_Coimbatore  ...  Year_is_2011  Year_is_2012  Year_is_2013  \\\n",
       "0                       0  ...             0             0             0   \n",
       "1                       0  ...             0             0             0   \n",
       "2                       0  ...             1             0             0   \n",
       "3                       0  ...             0             1             0   \n",
       "4                       1  ...             0             0             1   \n",
       "\n",
       "   Year_is_2014  Year_is_2015  Year_is_2016  Year_is_2017  Year_is_2018  \\\n",
       "0             0             0             0             0             0   \n",
       "1             0             1             0             0             0   \n",
       "2             0             0             0             0             0   \n",
       "3             0             0             0             0             0   \n",
       "4             0             0             0             0             0   \n",
       "\n",
       "   Year_is_2019  Year_is_Less than 2004  \n",
       "0             0                       0  \n",
       "1             0                       0  \n",
       "2             0                       0  \n",
       "3             0                       0  \n",
       "4             0                       0  \n",
       "\n",
       "[5 rows x 65 columns]"
      ]
     },
     "execution_count": 51,
     "metadata": {},
     "output_type": "execute_result"
    }
   ],
   "source": [
    "dummy_df_location = pd.get_dummies(df[\"Location\"],dtype=np.int64,prefix=\"Location_is\")\n",
    "dummy_df_fuel = pd.get_dummies(df[\"Fuel_Type\"],dtype=np.int64,prefix=\"Fuel_Type_is\")\n",
    "dummy_df_transmission = pd.get_dummies(df[\"Transmission\"],drop_first=True,dtype=np.int64,prefix=\"Transmission_is\")\n",
    "dummy_df_owner = pd.get_dummies(df[\"Owner_Type\"],dtype=np.int64,prefix=\"Owner_Type_is\")\n",
    "dummy_df_brand = pd.get_dummies(df[\"Brand\"],dtype=np.int64,prefix=\"Brand_is\")\n",
    "dummy_df_year = pd.get_dummies(df[\"Year\"],dtype=np.int64,prefix=\"Year_is\")\n",
    "\n",
    "df = pd.concat([df,dummy_df_location,dummy_df_fuel,dummy_df_transmission,dummy_df_owner,dummy_df_brand,dummy_df_year],axis=1)\n",
    "df = df.loc[:,~df.columns.duplicated()]\n",
    "df = df.drop(['Location', 'Fuel_Type','Transmission','Owner_Type','Brand','Year'],axis=1)\n",
    "\n",
    "df.head()"
   ]
  },
  {
   "cell_type": "markdown",
   "metadata": {
    "id": "-PPUAeGXUHAU"
   },
   "source": [
    "### Dropping Highly-Correlated Features\n",
    "* Dropping the features that are 0.7 or above correlated are dropped."
   ]
  },
  {
   "cell_type": "code",
   "execution_count": 52,
   "metadata": {
    "colab": {
     "base_uri": "https://localhost:8080/"
    },
    "id": "AztMk2JUUHAU",
    "outputId": "3d0987a4-096d-4847-d431-d5eab01e647e"
   },
   "outputs": [
    {
     "name": "stdout",
     "output_type": "stream",
     "text": [
      "The original dataframe has 65 columns.\n",
      "The reduced dataframe has 61 columns.\n"
     ]
    }
   ],
   "source": [
    "print(\"The original dataframe has {} columns.\".format(df.shape[1]))\n",
    "# Calculate the correlation matrix and take the absolute value\n",
    "corr_matrix = df.corr().abs()\n",
    "\n",
    "# Create a True/False mask and apply it\n",
    "mask = np.triu(np.ones_like(corr_matrix, dtype=bool))\n",
    "tri_df = corr_matrix.mask(mask)\n",
    "\n",
    "# List column names of highly correlated features (r > 0.70)\n",
    "to_drop = [c for c in tri_df.columns if any(tri_df[c] >  0.70)]\n",
    "\n",
    "reduced_df = df.drop(to_drop, axis=1) # Drop the features\n",
    "print(\"The reduced dataframe has {} columns.\".format(reduced_df.shape[1]))"
   ]
  },
  {
   "cell_type": "markdown",
   "metadata": {
    "id": "IO9SoykeUHAU"
   },
   "source": [
    "## Train-Test Split\n",
    "* Splitting the dataset into training and testing as 80% training and 20% testing"
   ]
  },
  {
   "cell_type": "code",
   "execution_count": 53,
   "metadata": {
    "id": "7j1I40FnUHAV"
   },
   "outputs": [],
   "source": [
    "X = reduced_df.drop([\"Price\"],axis=1)\n",
    "y = reduced_df[\"Price\"]\n",
    "X_train , X_test , y_train ,y_test = train_test_split(X ,y , test_size = 0.20 , random_state = 0)\n",
    "\n",
    "Y_test = y_test\n",
    "\n",
    "\n",
    "# y_test=(np.array(y_test))\n",
    "\n",
    "# X_test=(np.array(X_test))\n",
    "\n",
    "# y_train=(np.array(y_train))\n",
    "\n",
    "# X_train=(np.array(X_train))\n",
    "\n",
    "\n"
   ]
  },
  {
   "cell_type": "markdown",
   "metadata": {
    "id": "r54is5zaUHAV"
   },
   "source": [
    "## 1- Decision Tree Regression"
   ]
  },
  {
   "cell_type": "code",
   "execution_count": 54,
   "metadata": {
    "colab": {
     "base_uri": "https://localhost:8080/"
    },
    "id": "4ggYo80aUHAV",
    "outputId": "71b1d7aa-5001-4139-ff87-1358f10d5738"
   },
   "outputs": [
    {
     "name": "stdout",
     "output_type": "stream",
     "text": [
      "Wall time: 119 ms\n"
     ]
    }
   ],
   "source": [
    "%%time\n",
    "dt_model = DecisionTreeRegressor(random_state=42).fit(X_train,y_train)\n",
    "y_pred_dt = dt_model.predict(X_test)\n",
    "r2_test = r2_score(y_test,y_pred_dt)\n",
    "rmse_test = np.sqrt(mean_squared_error(y_test,y_pred_dt))\n",
    "rmse_train = np.sqrt(mean_squared_error(y_train , dt_model.predict(X_train)))\n",
    "r2_train = r2_score(y_train , dt_model.predict(X_train))"
   ]
  },
  {
   "cell_type": "code",
   "execution_count": 55,
   "metadata": {
    "colab": {
     "base_uri": "https://localhost:8080/"
    },
    "id": "CISmxDuNUHAV",
    "outputId": "4d9ea4dd-d682-4182-b369-e9eaced2c99f"
   },
   "outputs": [
    {
     "name": "stdout",
     "output_type": "stream",
     "text": [
      "R2 Score for Test Set of Decision Tree Regression Model:  0.74\n",
      "R2 Score for Train Set of Decision Tree Regression Model:  1.0\n",
      "RMSE for Test Set of Decision Tree Regression Model:  3.832\n",
      "RMSE for Train Set of Decision Tree Regression Model:  0.016\n"
     ]
    }
   ],
   "source": [
    "print(\"R2 Score for Test Set of Decision Tree Regression Model: \",round(r2_test,3))\n",
    "print(\"R2 Score for Train Set of Decision Tree Regression Model: \",round(r2_train,3))\n",
    "print(\"RMSE for Test Set of Decision Tree Regression Model: \",round(rmse_test,3))\n",
    "print(\"RMSE for Train Set of Decision Tree Regression Model: \",round(rmse_train,3))"
   ]
  },
  {
   "cell_type": "code",
   "execution_count": 56,
   "metadata": {
    "colab": {
     "base_uri": "https://localhost:8080/",
     "height": 410
    },
    "id": "KsplMj_zUHAZ",
    "outputId": "f8d758f2-819e-408a-ee95-25b0c1afb326"
   },
   "outputs": [
    {
     "data": {
      "image/png": "[encoded data removed]",
      "text/plain": [
       "<Figure size 576x432 with 1 Axes>"
      ]
     },
     "metadata": {},
     "output_type": "display_data"
    }
   ],
   "source": [
    "importances = dt_model.feature_importances_[0:15]\n",
    "indices = np.argsort(importances)\n",
    "feature_names = list(X_train.columns)\n",
    "\n",
    "plt.figure(figsize=(8,6))\n",
    "plt.title('Feature Importances')\n",
    "plt.barh(range(len(indices)), importances[indices], color='blue', align='center')\n",
    "plt.yticks(range(len(indices)), [feature_names[i] for i in indices])\n",
    "plt.xlabel('Relative Importance')\n",
    "plt.show()"
   ]
  },
  {
   "cell_type": "markdown",
   "metadata": {
    "id": "udRjGvDvUHAa"
   },
   "source": [
    "* For decision tree model, <b> 'Mileage', 'Kilometers_Driven', 'Seats' , 'Location_is_Coimbatore' and 'Location_is_Kolkata' </b> are the top most important five features while learning the patterns from the given dataset."
   ]
  },
  {
   "cell_type": "markdown",
   "metadata": {
    "id": "9pGUy1HAUHAa"
   },
   "source": [
    "## 2- Random Forest Regression"
   ]
  },
  {
   "cell_type": "code",
   "execution_count": 60,
   "metadata": {
    "colab": {
     "base_uri": "https://localhost:8080/"
    },
    "id": "wBmLv2MhUHAa",
    "outputId": "ec8adaee-dd3c-4bde-81a3-229feb78df64"
   },
   "outputs": [
    {
     "ename": "NameError",
     "evalue": "name 'r2_scprintore' is not defined",
     "output_type": "error",
     "traceback": [
      "\u001b[1;31m---------------------------------------------------------------------------\u001b[0m",
      "\u001b[1;31mNameError\u001b[0m                                 Traceback (most recent call last)",
      "\u001b[1;32m<timed exec>\u001b[0m in \u001b[0;36m<module>\u001b[1;34m\u001b[0m\n",
      "\u001b[1;31mNameError\u001b[0m: name 'r2_scprintore' is not defined"
     ]
    }
   ],
   "source": [
    "%%time\n",
    "rf_model = RandomForestRegressor(random_state=42).fit(X_train,y_train)\n",
    "y_pred_rf = rf_model.predict(X_test)\n",
    "# print(rf_model)\n",
    "r2_test = r2_score(y_test,y_pred_rf)\n",
    "# print(r2_test)\n",
    "rmse_test = np.sqrt(mean_squared_error(y_test,y_pred_rf))\n",
    "# print(rmse_test)\n",
    "rmse_train = np.sqrt(mean_squared_error(y_train , rf_model.predict(X_train)))\n",
    "# print(rmse_train)\n",
    "r2_train = r2_scprintore(y_train , rf_model.predict(X_train))\n",
    "# print(r2_train)"
   ]
  },
  {
   "cell_type": "code",
   "execution_count": 63,
   "metadata": {
    "colab": {
     "base_uri": "https://localhost:8080/"
    },
    "id": "P5Pn-zFmUHAa",
    "outputId": "2b617aa8-cf96-4c16-90fb-06aaa1d42cff"
   },
   "outputs": [
    {
     "name": "stdout",
     "output_type": "stream",
     "text": [
      "R2 Score for Test Set of Random Forest Regression Model:  0.85\n",
      "R2 Score for Train Set of Random Forest Regression Model:  1.0\n",
      "RMSE for Test Set of Random Forest Regression Model:  2.912\n",
      "RMSE for Train Set of Random Forest Regression Model:  1.1\n"
     ]
    }
   ],
   "source": [
    "R0 = round(r2_test,3)\n",
    "print(\"R2 Score for Test Set of Random Forest Regression Model: \",R0)\n",
    "print(\"R2 Score for Train Set of Random Forest Regression Model: \",round(r2_train,3))\n",
    "print(\"RMSE for Test Set of Random Forest Regression Model: \",round(rmse_test,3))\n",
    "print(\"RMSE for Train Set of Random Forest Regression Model: \",round(rmse_train,3))"
   ]
  },
  {
   "cell_type": "code",
   "execution_count": 64,
   "metadata": {
    "colab": {
     "base_uri": "https://localhost:8080/",
     "height": 394
    },
    "id": "9YvzTJ1oUHAc",
    "outputId": "f8fdf1c3-7851-4373-8b66-bf623ec53999"
   },
   "outputs": [
    {
     "data": {
      "image/png": "[encoded data removed]",
      "text/plain": [
       "<Figure size 576x432 with 1 Axes>"
      ]
     },
     "metadata": {},
     "output_type": "display_data"
    }
   ],
   "source": [
    "Importance = pd.DataFrame({\"Importance\":rf_model.feature_importances_*100},index=X_train.columns)\n",
    "Importance.nlargest(15,columns=\"Importance\").sort_values(by=\"Importance\",axis=0, ascending=True).plot(kind=\"barh\",color=\"r\",figsize=(8,6))\n",
    "plt.xlabel(\"Feature Impacts Levels on 'Price' Feature\");"
   ]
  },
  {
   "cell_type": "markdown",
   "metadata": {
    "id": "IRj1sbshUHAd"
   },
   "source": [
    "* For random forest model, <b> 'Transmission_is_Manual', 'Fuel_Type_is_Petrol', 'Kilometers_Driven' , 'Mileage' and 'Seats' </b> are the top most important five features while learning the patterns from the given dataset."
   ]
  },
  {
   "cell_type": "markdown",
   "metadata": {
    "id": "ei9Sgen2UHAd"
   },
   "source": [
    "## 3- Gradient Boosting Regression"
   ]
  },
  {
   "cell_type": "code",
   "execution_count": 65,
   "metadata": {
    "colab": {
     "base_uri": "https://localhost:8080/"
    },
    "id": "VdmwulDqUHAd",
    "outputId": "6c068b80-64f1-4517-b226-50b63f2cd2a8"
   },
   "outputs": [
    {
     "name": "stdout",
     "output_type": "stream",
     "text": [
      "0.8479045246701871\n",
      "Wall time: 1.2 s\n"
     ]
    }
   ],
   "source": [
    "%%time\n",
    "gbm_model = GradientBoostingRegressor(random_state=42).fit(X_train,y_train)\n",
    "y_pred_gbm = gbm_model.predict(X_test)\n",
    "r2_test = r2_score(y_test,y_pred_gbm)\n",
    "rmse_test = np.sqrt(mean_squared_error(y_test,y_pred_gbm))\n",
    "rmse_train = np.sqrt(mean_squared_error(y_train , gbm_model.predict(X_train)))\n",
    "r2_train = r2_score(y_train , gbm_model.predict(X_train))\n",
    "print(r2_train)"
   ]
  },
  {
   "cell_type": "code",
   "execution_count": 66,
   "metadata": {
    "colab": {
     "base_uri": "https://localhost:8080/"
    },
    "id": "baJy-RRiUHAe",
    "outputId": "e46d5e6b-2bbe-4bd1-8e13-72e4dd29cfd7"
   },
   "outputs": [
    {
     "name": "stdout",
     "output_type": "stream",
     "text": [
      "R2 Score for Test Set of Gradient Boosting Regression Model:  0.804\n",
      "R2 Score for Train Set of Gradient Boosting Regression Model:  0.848\n",
      "RMSE for Test Set of Gradient Boosting Regression Model:  3.325\n",
      "RMSE for Train Set of Gradient Boosting Regression Model:  3.001\n"
     ]
    }
   ],
   "source": [
    "print(\"R2 Score for Test Set of Gradient Boosting Regression Model: \",round(r2_test,3))\n",
    "print(\"R2 Score for Train Set of Gradient Boosting Regression Model: \",round(r2_train,3))\n",
    "print(\"RMSE for Test Set of Gradient Boosting Regression Model: \",round(rmse_test,3))\n",
    "print(\"RMSE for Train Set of Gradient Boosting Regression Model: \",round(rmse_train,3))"
   ]
  },
  {
   "cell_type": "code",
   "execution_count": 67,
   "metadata": {
    "colab": {
     "base_uri": "https://localhost:8080/",
     "height": 394
    },
    "id": "OmbV6Aw0UHAe",
    "outputId": "64274fca-0816-402a-8972-4daf660d5613"
   },
   "outputs": [
    {
     "data": {
      "image/png": "[encoded data removed]",
      "text/plain": [
       "<Figure size 576x432 with 1 Axes>"
      ]
     },
     "metadata": {},
     "output_type": "display_data"
    }
   ],
   "source": [
    "Importance = pd.DataFrame({\"Importance\":gbm_model.feature_importances_*100},index=X_train.columns)\n",
    "Importance.nlargest(15,columns=\"Importance\").sort_values(by=\"Importance\",axis=0, ascending=True).plot(kind=\"barh\",color=\"green\",figsize=(8,6))\n",
    "plt.xlabel(\"Feature Impacts Levels on 'Price' Feature\");"
   ]
  },
  {
   "cell_type": "markdown",
   "metadata": {
    "id": "7CzxXGaqUHAe"
   },
   "source": [
    "* For gradient boosting model, <b> 'Transmission_is_Manual', 'Fuel_Type_is_Petrol', 'Kilometers_Driven' , 'Mileage' and 'Brand_is_MERCEDES-BENZ' </b> are the top most important five features while learning the patterns from the given dataset."
   ]
  },
  {
   "cell_type": "markdown",
   "metadata": {
    "id": "W7cs3g6tUHAf"
   },
   "source": [
    "## Model Comparisons"
   ]
  },
  {
   "cell_type": "code",
   "execution_count": 68,
   "metadata": {
    "colab": {
     "base_uri": "https://localhost:8080/",
     "height": 142
    },
    "id": "QJ1Kpsy-UHAf",
    "outputId": "39fa77b2-6d72-453f-a91e-18dd66bc039a"
   },
   "outputs": [
    {
     "data": {
      "text/html": [
       "<div>\n",
       "<style scoped>\n",
       "    .dataframe tbody tr th:only-of-type {\n",
       "        vertical-align: middle;\n",
       "    }\n",
       "\n",
       "    .dataframe tbody tr th {\n",
       "        vertical-align: top;\n",
       "    }\n",
       "\n",
       "    .dataframe thead th {\n",
       "        text-align: right;\n",
       "    }\n",
       "</style>\n",
       "<table border=\"1\" class=\"dataframe\">\n",
       "  <thead>\n",
       "    <tr style=\"text-align: right;\">\n",
       "      <th></th>\n",
       "      <th>Model</th>\n",
       "      <th>R2_Score</th>\n",
       "      <th>RMSE</th>\n",
       "      <th>Run Time</th>\n",
       "    </tr>\n",
       "  </thead>\n",
       "  <tbody>\n",
       "    <tr>\n",
       "      <th>0</th>\n",
       "      <td>Decision Tree Regression</td>\n",
       "      <td>0.680</td>\n",
       "      <td>4.141</td>\n",
       "      <td>63 ms</td>\n",
       "    </tr>\n",
       "    <tr>\n",
       "      <th>1</th>\n",
       "      <td>Random Forest Regression</td>\n",
       "      <td>0.841</td>\n",
       "      <td>2.918</td>\n",
       "      <td>2.96 s</td>\n",
       "    </tr>\n",
       "    <tr>\n",
       "      <th>2</th>\n",
       "      <td>Gradient Boosting Regression</td>\n",
       "      <td>0.796</td>\n",
       "      <td>2.979</td>\n",
       "      <td>717 ms</td>\n",
       "    </tr>\n",
       "  </tbody>\n",
       "</table>\n",
       "</div>"
      ],
      "text/plain": [
       "                          Model  R2_Score   RMSE Run Time\n",
       "0      Decision Tree Regression     0.680  4.141    63 ms\n",
       "1      Random Forest Regression     0.841  2.918   2.96 s\n",
       "2  Gradient Boosting Regression     0.796  2.979   717 ms"
      ]
     },
     "execution_count": 68,
     "metadata": {},
     "output_type": "execute_result"
    }
   ],
   "source": [
    "comparison_frame = pd.DataFrame({'Model':['Decision Tree Regression','Random Forest Regression',\n",
    "                                          'Gradient Boosting Regression'], \n",
    "                                 'R2_Score':[0.68,0.841,0.796], \n",
    "                                 'RMSE':[4.141,2.918,2.979],\n",
    "                                'Run Time':['63 ms','2.96 s','717 ms']}) \n",
    "comparison_frame"
   ]
  },
  {
   "cell_type": "code",
   "execution_count": 69,
   "metadata": {
    "colab": {
     "base_uri": "https://localhost:8080/",
     "height": 301
    },
    "id": "9LzKlFJnUHAf",
    "outputId": "8b4dccd1-b4ce-4192-9c12-09161f34fd80"
   },
   "outputs": [
    {
     "data": {
      "image/png": "[encoded data removed]",
      "text/plain": [
       "<Figure size 432x288 with 1 Axes>"
      ]
     },
     "metadata": {},
     "output_type": "display_data"
    }
   ],
   "source": [
    "models = [dt_model,rf_model,gbm_model]\n",
    "\n",
    "result = []\n",
    "results = pd.DataFrame(columns= [\"Models\",\"R-Squared\"])\n",
    "\n",
    "for model in models:\n",
    "    names = model.__class__.__name__\n",
    "    y_pred = model.predict(X_test)\n",
    "    r_squared = r2_score(y_test, y_pred)    \n",
    "    result = pd.DataFrame([[names, r_squared*100]], columns= [\"Models\",\"R-Squared\"])\n",
    "    results = results.append(result)\n",
    "    \n",
    "    \n",
    "sns.barplot(x= 'R-Squared', y = 'Models', data=results, color=\"r\")\n",
    "plt.xlabel('R-Squared %')\n",
    "plt.title('R-Squared of the Regression Models');"
   ]
  },
  {
   "cell_type": "markdown",
   "metadata": {
    "id": "snsMbuCcUHAg"
   },
   "source": [
    "## Model Optimization for The Best Model (Random Forest Regressor)"
   ]
  },
  {
   "cell_type": "markdown",
   "metadata": {
    "id": "z_oI1ZspUHAg"
   },
   "source": [
    "### 1-GridSearchCV HyperParameter Tuning Method"
   ]
  },
  {
   "cell_type": "code",
   "execution_count": null,
   "metadata": {
    "colab": {
     "base_uri": "https://localhost:8080/"
    },
    "id": "U22XPZabUHAg",
    "outputId": "f88ec187-b6e7-4fec-ab77-866e1e2c4f3f"
   },
   "outputs": [],
   "source": [
    "rf_params = {'max_depth':[10,20,25],'max_features':[2,3,5,15],'n_estimators':[200,500,750],'min_samples_split':[10,12,15]}\n",
    "\n",
    "rf_model2 = RandomForestRegressor(random_state=42)\n",
    "rf_cv_model = GridSearchCV(rf_model2,rf_params,cv=5,n_jobs=-1)\n",
    "rf_cv_model.fit(X_train,y_train)"
   ]
  },
  {
   "cell_type": "code",
   "execution_count": null,
   "metadata": {
    "colab": {
     "base_uri": "https://localhost:8080/"
    },
    "id": "kpPzgfT5UHAh",
    "outputId": "31a9e037-b5f5-4058-bd90-57d74aa48b9c"
   },
   "outputs": [],
   "source": [
    "rf_cv_model.best_params_"
   ]
  },
  {
   "cell_type": "code",
   "execution_count": null,
   "metadata": {
    "id": "ywEKnmTnUHAh"
   },
   "outputs": [],
   "source": [
    "rf_model_tuned = RandomForestRegressor(max_depth=25,max_features=15,min_samples_split=10,n_estimators=750,random_state=42).fit(X_train,y_train)\n",
    "y_pred_rf_tuned = rf_model_tuned.predict(X_test)\n",
    "r2_test = r2_score(y_test,y_pred_rf_tuned)\n",
    "rmse_test = np.sqrt(mean_squared_error(y_test,y_pred_rf_tuned))\n",
    "rmse_train = np.sqrt(mean_squared_error(y_train , rf_model_tuned.predict(X_train)))\n",
    "r2_train = r2_score(y_train , rf_model_tuned.predict(X_train))"
   ]
  },
  {
   "cell_type": "code",
   "execution_count": null,
   "metadata": {
    "colab": {
     "base_uri": "https://localhost:8080/"
    },
    "id": "k0mEp2rLUHAh",
    "outputId": "a82ffb65-914a-431f-aeee-074348491f2b"
   },
   "outputs": [],
   "source": [
    "R1 = round(r2_test,3)\n",
    "print(\"R2 Score for Test Set of Random Forest Regression Model: \",R1)\n",
    "print(\"R2 Score for Train Set of Random Forest Regression Model: \",round(r2_train,3))\n",
    "print(\"RMSE for Test Set of Random Forest Regression Model: \",round(rmse_test,3))\n",
    "print(\"RMSE for Train Set of Random Forest Regression Model: \",round(rmse_train,3))"
   ]
  },
  {
   "cell_type": "code",
   "execution_count": null,
   "metadata": {
    "id": "uwyrtWtuUHAi"
   },
   "outputs": [],
   "source": [
    "### 2-RandomizedSearchCV HyperParameter Tuning Method"
   ]
  },
  {
   "cell_type": "code",
   "execution_count": null,
   "metadata": {
    "colab": {
     "base_uri": "https://localhost:8080/"
    },
    "id": "vHHlqdeQUHAi",
    "outputId": "a614f856-96ab-4862-fd1c-b04e6b2591b2"
   },
   "outputs": [],
   "source": [
    "rf_params = {'max_depth':[10,20,25],'max_features':[2,3,5,15],'n_estimators':[200,500,750],'min_samples_split':[10,12,15]}\n",
    "\n",
    "rf_model_cv = RandomForestRegressor(random_state=42)\n",
    "rf_cv_model_rnd = RandomizedSearchCV(rf_model_cv,param_distributions=rf_params,cv=5,n_jobs=-1,n_iter=5)\n",
    "rf_cv_model_rnd.fit(X_train,y_train)"
   ]
  },
  {
   "cell_type": "code",
   "execution_count": null,
   "metadata": {
    "colab": {
     "base_uri": "https://localhost:8080/"
    },
    "id": "FCHeQwd_UHAj",
    "outputId": "8d1c8735-3b3a-4301-c9a3-5eaad9565583"
   },
   "outputs": [],
   "source": [
    "rf_cv_model_rnd.best_params_"
   ]
  },
  {
   "cell_type": "code",
   "execution_count": null,
   "metadata": {
    "id": "veTN4p7IUHAj"
   },
   "outputs": [],
   "source": [
    "rf_model_tuned_rnd = RandomForestRegressor(max_depth=20,max_features=15,min_samples_split=10,n_estimators=750,random_state=42).fit(X_train,y_train)\n",
    "y_pred_rf_tuned_rnd = rf_model_tuned_rnd.predict(X_test)\n",
    "r2_test = r2_score(y_test,y_pred_rf_tuned_rnd)\n",
    "rmse_test = np.sqrt(mean_squared_error(y_test,y_pred_rf_tuned_rnd))\n",
    "rmse_train = np.sqrt(mean_squared_error(y_train , rf_model_tuned_rnd.predict(X_train)))\n",
    "r2_train = r2_score(y_train , rf_model_tuned_rnd.predict(X_train))"
   ]
  },
  {
   "cell_type": "code",
   "execution_count": null,
   "metadata": {
    "colab": {
     "base_uri": "https://localhost:8080/"
    },
    "id": "vwBS8cBRUHAj",
    "outputId": "5265daee-aa1a-4f4b-9292-64f9d445003c"
   },
   "outputs": [],
   "source": [
    "R2 = round(r2_test,3) \n",
    "print(\"R2 Score for Test Set of Random Forest Regression Model: \",R2 )\n",
    "print(\"R2 Score for Train Set of Random Forest Regression Model: \",round(r2_train,3))\n",
    "print(\"RMSE for Test Set of Random Forest Regression Model: \",round(rmse_test,3))\n",
    "print(\"RMSE for Train Set of Random Forest Regression Model: \",round(rmse_train,3))"
   ]
  },
  {
   "cell_type": "markdown",
   "metadata": {
    "id": "7CLkIePJUHAk"
   },
   "source": [
    "## Final Comparison Table"
   ]
  },
  {
   "cell_type": "code",
   "execution_count": null,
   "metadata": {
    "colab": {
     "base_uri": "https://localhost:8080/",
     "height": 142
    },
    "id": "IhxC49alUHAk",
    "outputId": "f81083d1-f903-4e62-a582-2156c52c216e"
   },
   "outputs": [],
   "source": [
    "comparison_frame2 = pd.DataFrame({'Model':['Random Forest Regression (Default Parameters)',\n",
    "                                          'Random Forest Regression (GridSearchCV Parameters)',\n",
    "                                          'Random Forest Regression (RandomizedSearchCV Parameters)'], \n",
    "                                 'R2_Score':[0.841,0.845,0.841], \n",
    "                                 'RMSE':[2.918,2.880,2.919]}) \n",
    "comparison_frame2"
   ]
  },
  {
   "cell_type": "code",
   "execution_count": 118,
   "metadata": {},
   "outputs": [],
   "source": [
    "# y_test convert to the binry clasification form \n",
    "Max  = (max(y_pred_dt))\n",
    "res = []\n",
    "for val in y_pred_dt:\n",
    "    res.append(val/Max)\n",
    "y_test = np.array(res)\n",
    "\n",
    "# in to int\n",
    "y_test = [int(x) for x in y_test]\n",
    "y_test = np.array(y_test)\n",
    "\n"
   ]
  },
  {
   "cell_type": "markdown",
   "metadata": {},
   "source": [
    "# Computing AUROC and ROC curve values\n"
   ]
  },
  {
   "cell_type": "code",
   "execution_count": 119,
   "metadata": {},
   "outputs": [],
   "source": [
    "from sklearn.metrics import roc_curve, roc_auc_score\n"
   ]
  },
  {
   "cell_type": "markdown",
   "metadata": {},
   "source": [
    "# Calculate AUROC"
   ]
  },
  {
   "cell_type": "markdown",
   "metadata": {},
   "source": [
    "## ROC is the receiver operating characteristic AUROC is the area under the ROC curve"
   ]
  },
  {
   "cell_type": "code",
   "execution_count": 106,
   "metadata": {},
   "outputs": [],
   "source": [
    "\n",
    "r_auc = roc_auc_score(y_test, y_pred_dt, multi_class='ovr')\n",
    "rf_auc = roc_auc_score(y_test, y_pred_rf, multi_class='ovr')\n",
    "nb_auc = roc_auc_score(y_test, y_pred_gbm, multi_class='ovr')"
   ]
  },
  {
   "cell_type": "markdown",
   "metadata": {},
   "source": [
    "# Print AUROC scores"
   ]
  },
  {
   "cell_type": "code",
   "execution_count": 107,
   "metadata": {},
   "outputs": [
    {
     "name": "stdout",
     "output_type": "stream",
     "text": [
      "Random (chance) Prediction: AUROC = 0.500\n",
      "Random Forest Regression Default Parameters: AUROC = 1.000\n",
      "Random Forest Regression GridSearchCV Parameters: AUROC = 0.994\n",
      "Random Forest Regression RandomizedSearchCV Parameters: AUROC = 1.000\n"
     ]
    }
   ],
   "source": [
    "\n",
    "print('Random Forest Regression Default Parameters: AUROC = %.3f' % (r_auc))\n",
    "print('Random Forest Regression GridSearchCV Parameters: AUROC = %.3f' % (rf_auc))\n",
    "print('Random Forest Regression RandomizedSearchCV Parameters: AUROC = %.3f' % (nb_auc))"
   ]
  },
  {
   "cell_type": "markdown",
   "metadata": {},
   "source": [
    "# Calculate ROC curve"
   ]
  },
  {
   "cell_type": "code",
   "execution_count": 108,
   "metadata": {},
   "outputs": [],
   "source": [
    "\n",
    "r_fpr, r_tpr, _ = roc_curve(y_test, y_pred_dt)\n",
    "rf_fpr, rf_tpr, _ = roc_curve(y_test, y_pred_rf)\n",
    "nb_fpr, nb_tpr, _ = roc_curve(y_test, y_pred_gbm)\n"
   ]
  },
  {
   "cell_type": "code",
   "execution_count": 109,
   "metadata": {},
   "outputs": [],
   "source": [
    "import matplotlib.pyplot as plt"
   ]
  },
  {
   "cell_type": "markdown",
   "metadata": {},
   "source": [
    "# Plot the ROC curve"
   ]
  },
  {
   "cell_type": "code",
   "execution_count": 117,
   "metadata": {},
   "outputs": [
    {
     "data": {
      "image/png": "[encoded data removed]",
      "text/plain": [
       "<Figure size 432x288 with 1 Axes>"
      ]
     },
     "metadata": {},
     "output_type": "display_data"
    }
   ],
   "source": [
    "\n",
    "\n",
    "plt.plot(r_fpr, r_tpr, linestyle='--', label='Default Parameters (AUROC = %0.3f)' % r_auc)\n",
    "plt.plot(rf_fpr, rf_tpr, marker='.', label='GridSearchCV Parameters (AUROC = %0.3f)' % rf_auc)\n",
    "plt.plot(nb_fpr, nb_tpr, marker='*', label='RandomizedSearchCV Parameters (AUROC = %0.3f)' % nb_auc)\n",
    "\n",
    "# Title\n",
    "plt.title('ROC Plot')\n",
    "# Axis labels\n",
    "plt.xlabel('False Positive Rate')\n",
    "plt.ylabel('True Positive Rate')\n",
    "# Show legend\n",
    "plt.legend() # \n",
    "# Show plot\n",
    "plt.show()\n",
    "\n"
   ]
  },
  {
   "cell_type": "markdown",
   "metadata": {
    "id": "69sCPIiWUHAk"
   },
   "source": [
    "## Interpretation and Recommendations\n",
    "* Decision Tree, Random Forest and Gradient Boosting Regressor algorithms have been applied to the given dataset after required data preprocessing steps.\n",
    "* In data preprocessing phase, many different techniques such as outlier detection, missing value threatment, scaling and one-hot encoding methods are used to make the dataset is usable efficiently in the models.\n",
    "* According to the visual findings above, the price can be changable in terms of many different features from the dataset like \"Mileage\",\"Engine\" or \"Brand\". More detailed findings can be gathered above.\n",
    "* R2_Score and RMSE (Root-Mean Squared Error) model performance metrics are used in all three models to measure the model's success so accordingly, Random Forest is performed the best among other 2 algorithms.\n",
    "* In order to increase the model performance by applying model optimization technique, GridSearchCV and RandomizedSearchCV techniques are used to Random Forest model. GridSearchCV technique slightly increased the model's performance in terms of R2_Score and RMSE metrics. Run time for each model is also performed and decision tree works faster than the other two algorithms.\n",
    "* As already explained above, all models have chosen different most important features but all models choose \"Mileage\" and \"Kilometers_Driven\" as the most important feature.\n",
    "* In terms of pros and cons of each model, using only \"Decision Tree\" wouldn't be good choice because the algorithm creates one tree and make predictions accordingly. That feature makes decision tree algorithm faster than the others but not as trustworthy as others. Random Forest and Gradient Boosting algorithms are called ensemble-based learning algorithms. They create more trees called \"forest\" and take every decision from each tree so it's more robust and trustworthy. The only cons of those algorithms is they work slower than decision tree but it's always good to choose that sort of algorithms for modeling."
   ]
  }
 ],
 "metadata": {
  "colab": {
   "provenance": []
  },
  "kernelspec": {
   "display_name": "Python 3",
   "language": "python",
   "name": "python3"
  },
  "language_info": {
   "codemirror_mode": {
    "name": "ipython",
    "version": 3
   },
   "file_extension": ".py",
   "mimetype": "text/x-python",
   "name": "python",
   "nbconvert_exporter": "python",
   "pygments_lexer": "ipython3",
   "version": "3.8.5"
  }
 },
 "nbformat": 4,
 "nbformat_minor": 1
}
